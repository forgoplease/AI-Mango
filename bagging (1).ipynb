{
 "cells": [
  {
   "cell_type": "code",
   "execution_count": 44,
   "metadata": {},
   "outputs": [],
   "source": [
    "import os\n",
    "import cv2\n",
    "import csv\n",
    "import random\n",
    "import time\n",
    "import numpy as np\n",
    "import pandas as pd\n",
    "import matplotlib.image as mpimg # mpimg 用於讀取圖片\n",
    "import matplotlib.pyplot as plt # plt 用於顯示圖片\n",
    "import seaborn as sns"
   ]
  },
  {
   "cell_type": "code",
   "execution_count": 45,
   "metadata": {},
   "outputs": [],
   "source": [
    "import tensorflow as tf\n",
    "\n",
    "from tensorflow.keras.applications import InceptionResNetV2\n",
    "from tensorflow.keras.preprocessing import image\n",
    "from tensorflow.keras.applications.inception_resnet_v2 import preprocess_input\n",
    "from tensorflow.keras import Model\n",
    "from tensorflow.keras.preprocessing.image import ImageDataGenerator, array_to_img, img_to_array, load_img\n",
    "from tensorflow.keras.utils import to_categorical\n",
    "from tensorflow.keras import utils as np_utils\n",
    "from tensorflow import keras\n",
    "from tensorflow.keras import optimizers\n",
    "from tensorflow.keras.layers import Input, Dropout, Flatten, Convolution2D, MaxPooling2D, ZeroPadding2D, Dense, Activation, Conv2DTranspose"
   ]
  },
  {
   "cell_type": "code",
   "execution_count": 46,
   "metadata": {},
   "outputs": [
    {
     "name": "stdout",
     "output_type": "stream",
     "text": [
      "載入模型成功!繼續訓練模型\n"
     ]
    }
   ],
   "source": [
    "import h5py\n",
    "from numpy import loadtxt\n",
    "from tensorflow.keras.models import load_model\n",
    "model1= load_model('model1.h5')\n",
    "model2= load_model('model2.h5')\n",
    "model3= load_model('model3.h5')\n",
    "print(\"載入模型成功!繼續訓練模型\")"
   ]
  },
  {
   "cell_type": "markdown",
   "metadata": {},
   "source": [
    "放入測試集資料"
   ]
  },
  {
   "cell_type": "code",
   "execution_count": 47,
   "metadata": {},
   "outputs": [],
   "source": [
    "csvfile_test = open('dev.csv')\n",
    "reader_test = csv.reader(csvfile_test)"
   ]
  },
  {
   "cell_type": "code",
   "execution_count": 48,
   "metadata": {},
   "outputs": [],
   "source": [
    "# 讀取csv標籤\n",
    "labels = []\n",
    "for line in reader_test:\n",
    "    tmp = [line[0],line[1]]\n",
    "    # print tmp\n",
    "    labels.append(tmp)\n",
    "csvfile_test.close() "
   ]
  },
  {
   "cell_type": "code",
   "execution_count": 49,
   "metadata": {},
   "outputs": [
    {
     "name": "stdout",
     "output_type": "stream",
     "text": [
      "芒果圖片數量:  800\n"
     ]
    }
   ],
   "source": [
    "labels = labels[1:]  # remove the first row\n",
    "print(\"芒果圖片數量: \",len(labels))"
   ]
  },
  {
   "cell_type": "code",
   "execution_count": 50,
   "metadata": {},
   "outputs": [],
   "source": [
    "# 轉換圖片的標籤\n",
    "for i in range(len(labels)):\n",
    "    labels[i][1] = labels[i][1].replace(\"A\",\"0\")\n",
    "    labels[i][1] = labels[i][1].replace(\"B\",\"1\")\n",
    "    labels[i][1] = labels[i][1].replace(\"C\",\"2\")"
   ]
  },
  {
   "cell_type": "code",
   "execution_count": 51,
   "metadata": {},
   "outputs": [],
   "source": [
    "x_test = []\n",
    "y_test = []\n",
    "image_size = 128\n",
    "for i in range(len(labels)):\n",
    "    img = cv2.imread(\"C1-P1_Dev/\" + labels[i][0] )\n",
    "    res = cv2.resize(img,(image_size,image_size),interpolation=cv2.INTER_LINEAR)\n",
    "    res = img_to_array(res)\n",
    "    x_test.append(res)    \n",
    "    y_test.append(labels[i][1])"
   ]
  },
  {
   "cell_type": "code",
   "execution_count": 52,
   "metadata": {},
   "outputs": [],
   "source": [
    "y_test_org = y_test\n",
    "\n",
    "# 轉換至array的格式\n",
    "x_test = np.array(x_test)\n",
    "y_test = np.array(y_test)"
   ]
  },
  {
   "cell_type": "code",
   "execution_count": 53,
   "metadata": {},
   "outputs": [],
   "source": [
    "# 轉換至float的格式\n",
    "for i in range(len(x_test)):\n",
    "    x_test[i] = x_test[i].astype('float32')\n",
    "# x_test = x_test/255"
   ]
  },
  {
   "cell_type": "code",
   "execution_count": 54,
   "metadata": {},
   "outputs": [],
   "source": [
    "# 標籤進行one-hotencoding\n",
    "y_test = np_utils.to_categorical(y_test)"
   ]
  },
  {
   "cell_type": "markdown",
   "metadata": {},
   "source": [
    "開始預測"
   ]
  },
  {
   "cell_type": "code",
   "execution_count": 55,
   "metadata": {},
   "outputs": [],
   "source": [
    "# 測試集標籤預測\n",
    "y_pred1 = model1.predict(x_test)\n",
    "y_pred2 = model2.predict(x_test)\n",
    "y_pred3 = model3.predict(x_test)"
   ]
  },
  {
   "cell_type": "code",
   "execution_count": 56,
   "metadata": {},
   "outputs": [
    {
     "name": "stdout",
     "output_type": "stream",
     "text": [
      "[1 0 2 1 2 1 2 1 1 0 0 2 1 1 2 1 0 1 1 1 0 1 2 0 2 0 2 2 2 1 0 0 2 1 0 1 0\n",
      " 1 0 1 0 2 0 1 1 2 1 0 2 0 1 1 1 2 1 0 1 1 2 0 1 0 2 2 1 2 2 1 2 2 2 1 1 2\n",
      " 2 2 1 1 2 0 0 2 1 1 2 2 2 2 0 1 2 1 1 2 2 2 1 0 2 1 2 1 1 2 1 1 1 1 1 2 2\n",
      " 0 2 2 0 2 2 2 1 1 1 2 2 1 1 0 0 2 2 1 1 0 1 1 1 2 2 1 0 2 1 1 2 0 1 1 2 1\n",
      " 1 1 1 0 1 1 2 0 1 0 2 1 2 1 0 1 2 2 1 2 0 2 1 1 2 2 2 1 0 1 0 1 1 2 1 2 2\n",
      " 2 0 1 2 1 2 2 1 1 2 1 1 2 1 1 2 1 1 0 1 2 0 1 2 1 2 1 0 2 0 2 1 1 1 1 1 2\n",
      " 1 1 1 1 0 1 1 1 2 1 1 1 0 1 2 0 2 1 2 2 2 0 1 0 2 2 2 2 1 1 2 2 2 1 1 1 2\n",
      " 2 2 1 1 1 2 1 2 0 1 1 2 1 1 0 2 2 2 1 2 1 1 0 0 2 2 0 1 2 1 1 2 1 2 1 1 2\n",
      " 1 1 1 2 2 0 2 0 2 2 1 2 1 2 2 0 2 1 1 2 1 1 1 2 0 1 2 2 2 1 1 1 0 2 1 1 2\n",
      " 1 2 1 1 2 0 2 1 2 0 2 0 0 0 0 0 1 2 1 1 0 1 1 1 2 1 0 0 1 1 1 2 1 1 1 2 2\n",
      " 2 1 1 1 1 1 1 2 0 2 0 2 0 1 1 2 1 2 0 2 2 2 1 2 1 0 2 2 1 1 0 0 2 2 1 2 1\n",
      " 1 2 0 1 2 1 1 1 1 1 2 2 1 1 0 0 2 0 2 1 1 1 2 2 2 1 2 1 2 1 1 1 0 1 1 1 0\n",
      " 1 1 0 1 1 1 2 2 1 2 0 0 2 0 1 1 2 1 2 1 0 1 1 0 2 1 1 2 2 2 0 1 2 1 2 1 0\n",
      " 1 1 0 2 1 1 1 2 2 2 2 2 1 0 0 0 1 1 0 1 0 1 1 0 1 1 1 0 0 1 2 1 0 1 2 2 1\n",
      " 1 1 0 1 2 1 2 1 1 2 2 1 2 1 1 1 2 1 1 1 1 0 0 0 2 1 0 1 1 1 1 2 1 0 2 0 2\n",
      " 1 0 0 1 0 2 1 1 1 0 1 0 1 2 1 1 2 0 1 2 0 1 1 0 1 2 1 2 0 1 0 1 2 1 2 0 1\n",
      " 2 2 1 1 2 2 1 1 2 2 1 2 1 0 0 2 2 1 1 2 1 2 2 1 1 0 2 2 1 1 0 2 0 1 0 0 2\n",
      " 0 2 1 1 0 1 2 2 0 1 1 1 1 1 1 2 1 1 1 2 2 2 2 1 2 1 1 2 2 1 1 2 0 2 1 2 2\n",
      " 0 0 1 1 2 2 2 1 0 1 2 0 1 0 2 2 2 1 2 0 0 0 2 1 1 2 1 0 1 1 1 2 1 0 0 1 1\n",
      " 0 2 2 1 1 0 1 0 1 0 1 0 0 2 0 2 0 1 2 2 2 2 1 2 1 1 1 2 1 0 2 2 2 1 2 2 1\n",
      " 1 2 2 2 1 1 1 1 1 1 1 2 0 0 1 1 2 1 1 2 2 2 0 1 2 1 1 1 0 2 1 1 2 2 0 1 1\n",
      " 1 2 2 1 0 2 2 0 2 2 2 1 2 2 2 1 1 0 1 0 2 0 2]\n",
      "[1 0 1 1 2 1 2 1 0 0 0 1 2 1 2 1 0 0 0 1 1 1 2 0 2 0 2 2 0 1 0 0 1 2 0 1 0\n",
      " 0 0 0 0 2 0 0 1 1 2 0 2 0 1 2 1 1 0 0 1 0 2 0 1 1 2 0 0 2 2 1 2 1 2 1 1 2\n",
      " 2 0 0 1 2 1 1 2 1 0 2 2 2 1 0 1 2 1 1 2 1 2 1 0 2 0 2 1 1 2 1 1 1 0 1 2 0\n",
      " 0 2 0 1 2 2 1 1 1 1 2 2 1 2 1 0 2 2 1 1 0 1 1 0 2 1 1 0 2 0 1 2 0 1 0 2 1\n",
      " 1 1 1 0 1 1 1 0 1 0 2 1 2 1 0 1 2 2 0 2 0 2 1 2 2 2 2 1 0 1 0 1 2 2 0 2 0\n",
      " 2 0 0 2 1 2 2 1 1 2 1 0 2 2 0 2 1 1 0 0 2 0 1 2 1 2 2 1 2 1 2 1 1 1 1 1 1\n",
      " 1 1 1 1 0 0 1 2 1 0 1 1 1 0 2 0 2 0 1 2 1 0 1 0 2 1 0 1 0 0 2 2 2 1 1 1 0\n",
      " 2 2 1 1 1 2 1 2 1 1 1 2 1 2 0 1 2 2 1 2 0 0 0 1 2 2 0 1 2 1 2 2 0 2 1 1 0\n",
      " 1 1 1 2 2 1 2 0 2 2 1 2 1 2 2 0 2 1 0 1 0 1 1 0 0 1 1 2 2 1 1 1 0 2 1 1 2\n",
      " 1 2 1 1 2 0 2 1 2 0 2 0 0 0 0 0 1 2 1 2 0 1 1 0 2 1 0 0 1 0 0 2 1 1 1 2 0\n",
      " 2 2 0 1 0 1 1 2 0 2 0 1 0 1 1 2 1 1 0 0 2 2 1 2 1 0 0 2 1 1 0 0 2 2 0 1 0\n",
      " 1 1 1 1 0 1 0 1 1 1 2 2 1 2 0 1 2 2 2 1 1 1 1 1 0 2 1 1 2 1 1 1 0 1 1 1 0\n",
      " 0 0 0 1 0 1 2 2 1 2 0 0 1 1 1 1 2 0 2 2 0 1 1 0 1 0 1 2 2 2 0 1 2 1 0 1 1\n",
      " 1 0 0 1 1 0 1 2 2 1 1 2 0 1 0 0 1 1 1 1 1 2 1 0 1 1 0 1 0 1 2 1 0 1 2 2 1\n",
      " 1 1 1 1 0 2 2 1 1 2 2 2 1 1 1 2 2 1 2 1 2 0 1 0 2 1 0 2 0 1 0 2 0 0 2 0 2\n",
      " 0 0 0 1 0 2 1 1 1 0 1 0 0 1 0 1 1 0 1 2 1 1 1 1 1 2 1 2 0 1 0 1 2 2 2 1 1\n",
      " 1 1 0 1 2 2 1 1 2 2 1 0 0 0 1 2 1 1 2 2 2 0 2 1 2 0 1 1 1 1 0 2 2 1 0 0 1\n",
      " 0 2 1 1 0 1 2 2 0 1 0 2 1 1 1 1 0 0 1 2 2 2 2 1 2 1 1 1 2 0 1 1 0 2 1 2 2\n",
      " 0 0 2 1 2 2 2 0 0 1 2 0 1 0 1 2 2 1 1 0 0 0 2 1 0 2 1 0 1 1 1 2 1 0 0 1 1\n",
      " 0 0 2 1 1 1 1 0 1 0 1 0 0 2 0 2 0 1 2 1 2 2 0 2 1 1 2 1 0 0 2 2 2 1 2 2 1\n",
      " 0 2 2 2 1 1 1 0 1 1 0 2 0 0 0 1 2 1 1 2 1 2 0 2 2 1 1 1 0 2 1 1 2 2 0 1 1\n",
      " 1 2 2 1 0 2 2 0 0 1 2 1 2 2 2 1 2 1 1 0 2 0 1]\n",
      "[1 0 1 1 2 1 2 0 1 0 0 1 1 1 1 1 0 1 0 0 0 1 1 0 1 0 2 1 1 1 0 0 2 2 0 0 0\n",
      " 1 0 1 1 1 0 1 1 1 1 1 2 0 1 1 0 1 1 0 1 1 2 0 1 0 2 1 1 2 2 0 2 1 1 1 1 2\n",
      " 2 1 0 0 1 0 0 2 1 0 1 2 1 1 0 1 1 1 1 1 1 2 1 0 2 1 1 1 1 1 0 1 1 0 1 2 0\n",
      " 0 1 0 0 2 1 1 1 1 1 1 2 1 2 0 0 1 2 1 1 0 1 1 1 2 1 1 0 2 1 1 2 0 0 1 1 2\n",
      " 1 1 1 0 1 1 1 1 1 0 2 0 2 1 0 1 2 2 0 2 0 2 1 1 2 1 2 1 0 0 1 1 1 2 1 1 0\n",
      " 1 0 1 1 1 2 1 0 1 1 1 0 2 1 1 2 1 0 1 1 1 1 0 2 1 1 1 0 1 0 1 1 1 1 1 1 1\n",
      " 1 1 0 1 0 0 1 1 0 1 1 1 0 1 2 1 1 0 2 2 2 0 0 1 1 1 2 1 1 1 2 2 2 0 1 1 1\n",
      " 2 2 1 1 0 2 1 1 0 1 1 2 1 1 0 0 1 2 1 1 1 0 0 0 0 1 0 1 1 1 1 2 1 2 1 1 2\n",
      " 0 1 1 2 2 1 2 0 1 1 1 1 1 2 2 1 2 1 0 1 0 1 1 0 0 1 1 2 1 1 0 1 1 2 1 1 1\n",
      " 1 1 1 1 2 1 1 1 2 1 1 0 0 0 1 1 1 2 1 1 1 0 0 1 1 1 0 1 2 0 1 1 1 1 1 1 1\n",
      " 2 2 1 1 1 1 0 2 0 2 0 1 0 1 1 1 1 1 0 1 2 2 1 1 1 0 1 2 0 1 0 0 2 1 0 1 1\n",
      " 1 1 0 1 1 1 0 1 1 1 1 1 0 1 0 0 2 1 2 1 1 0 2 1 1 0 0 1 1 1 0 0 0 1 0 1 0\n",
      " 1 0 1 1 0 1 2 1 1 2 0 1 1 0 1 1 2 1 1 2 0 1 1 0 1 1 1 2 2 1 0 1 2 0 1 2 0\n",
      " 0 1 1 1 1 1 1 2 1 1 1 1 1 0 0 0 0 0 0 0 0 1 1 0 0 0 0 0 1 1 2 1 0 0 0 1 1\n",
      " 0 1 2 1 2 2 2 1 1 1 1 1 1 1 1 1 2 1 1 1 1 0 0 1 2 1 0 2 1 1 0 2 1 0 1 0 2\n",
      " 1 1 0 0 1 2 1 1 1 0 1 1 0 1 0 1 0 0 0 2 0 1 1 0 1 1 0 1 2 1 1 0 1 1 2 0 0\n",
      " 1 1 0 0 2 2 0 1 2 2 0 2 0 0 1 2 1 1 1 2 1 2 1 1 1 1 1 0 0 0 0 2 1 1 1 1 0\n",
      " 0 2 1 1 0 1 2 2 0 1 0 1 1 1 0 1 0 0 1 1 2 2 2 1 2 1 1 2 1 1 1 1 0 1 1 1 2\n",
      " 1 0 1 0 2 2 2 1 0 0 1 0 0 0 2 1 2 1 1 0 0 1 1 1 0 2 1 0 1 1 1 1 1 0 0 1 1\n",
      " 0 1 2 1 1 0 1 1 0 0 1 1 0 1 0 2 1 1 2 1 1 2 0 2 1 0 1 2 1 0 2 1 2 1 2 2 0\n",
      " 1 1 2 2 1 1 0 1 1 1 1 1 0 1 0 1 1 1 1 1 0 2 1 1 1 0 1 1 0 1 1 1 1 2 1 0 1\n",
      " 1 2 2 1 0 2 1 1 0 2 2 1 2 1 1 0 1 0 1 0 2 1 1]\n"
     ]
    }
   ],
   "source": [
    "# 模型預測後的標籤\n",
    "predict_label1 = np.argmax(y_pred1,axis=1)\n",
    "print(predict_label1)\n",
    "# print(len(predict_label))\n",
    "predict_label2 = np.argmax(y_pred2,axis=1)\n",
    "print(predict_label2)\n",
    "predict_label3 = np.argmax(y_pred3,axis=1)\n",
    "print(predict_label3)"
   ]
  },
  {
   "cell_type": "code",
   "execution_count": 57,
   "metadata": {},
   "outputs": [
    {
     "name": "stdout",
     "output_type": "stream",
     "text": [
      "['1' '0' '1' '1' '2' '1' '2' '0' '1' '0' '0' '1' '2' '1' '2' '1' '1' '0'\n",
      " '0' '1' '0' '0' '2' '0' '1' '0' '2' '2' '1' '1' '1' '0' '2' '2' '0' '0'\n",
      " '0' '0' '0' '0' '1' '2' '0' '2' '2' '2' '1' '0' '2' '0' '1' '1' '1' '2'\n",
      " '2' '0' '1' '0' '2' '0' '1' '1' '2' '0' '1' '2' '2' '0' '2' '1' '2' '1'\n",
      " '1' '2' '2' '2' '1' '0' '2' '0' '0' '2' '1' '1' '2' '2' '2' '2' '0' '1'\n",
      " '2' '2' '1' '2' '2' '2' '1' '0' '2' '2' '2' '1' '1' '2' '1' '1' '1' '1'\n",
      " '1' '2' '2' '0' '1' '0' '0' '2' '2' '0' '2' '0' '1' '0' '2' '1' '2' '1'\n",
      " '0' '1' '2' '1' '0' '0' '0' '1' '0' '2' '1' '1' '0' '2' '0' '1' '2' '0'\n",
      " '0' '0' '2' '1' '1' '1' '1' '1' '1' '1' '1' '1' '1' '0' '2' '1' '2' '1'\n",
      " '0' '1' '2' '2' '1' '2' '0' '2' '1' '2' '2' '2' '2' '1' '0' '0' '0' '1'\n",
      " '2' '2' '0' '2' '1' '2' '0' '0' '2' '1' '2' '2' '1' '1' '2' '1' '0' '2'\n",
      " '1' '0' '2' '2' '1' '0' '1' '2' '0' '1' '2' '2' '2' '1' '1' '2' '0' '2'\n",
      " '1' '2' '1' '1' '0' '1' '1' '1' '1' '1' '0' '0' '1' '1' '0' '2' '1' '1'\n",
      " '0' '1' '2' '0' '2' '0' '1' '2' '2' '0' '1' '0' '2' '2' '2' '1' '0' '1'\n",
      " '2' '2' '2' '1' '1' '1' '2' '2' '2' '1' '1' '0' '2' '1' '2' '0' '1' '2'\n",
      " '2' '1' '1' '1' '1' '2' '2' '0' '2' '0' '1' '0' '0' '1' '1' '1' '1' '2'\n",
      " '1' '2' '2' '0' '2' '2' '1' '1' '0' '1' '1' '2' '2' '0' '2' '0' '2' '2'\n",
      " '1' '2' '1' '2' '2' '0' '2' '1' '0' '2' '0' '1' '1' '0' '0' '1' '1' '2'\n",
      " '2' '1' '1' '1' '0' '2' '1' '1' '2' '0' '2' '1' '1' '2' '1' '1' '1' '2'\n",
      " '0' '2' '0' '0' '0' '0' '0' '1' '2' '1' '2' '0' '1' '0' '1' '2' '1' '0'\n",
      " '0' '1' '0' '0' '2' '1' '1' '1' '1' '1' '2' '2' '1' '2' '0' '2' '1' '2'\n",
      " '0' '2' '0' '1' '0' '1' '1' '2' '1' '1' '0' '2' '2' '2' '1' '2' '1' '0'\n",
      " '1' '1' '1' '1' '0' '0' '2' '1' '0' '2' '1' '1' '2' '0' '0' '2' '1' '0'\n",
      " '1' '1' '1' '2' '2' '1' '1' '0' '0' '2' '0' '2' '1' '1' '1' '2' '2' '0'\n",
      " '2' '0' '1' '2' '2' '1' '1' '0' '1' '0' '1' '0' '0' '1' '0' '1' '1' '1'\n",
      " '2' '2' '2' '2' '0' '0' '0' '1' '0' '2' '2' '1' '2' '2' '0' '1' '1' '0'\n",
      " '1' '0' '1' '2' '2' '1' '0' '1' '2' '1' '1' '1' '0' '0' '0' '0' '1' '2'\n",
      " '1' '1' '2' '2' '1' '2' '1' '1' '0' '0' '0' '0' '0' '0' '0' '0' '2' '2'\n",
      " '0' '0' '0' '0' '0' '1' '1' '2' '1' '0' '0' '2' '2' '1' '0' '1' '0' '1'\n",
      " '2' '2' '2' '1' '1' '2' '2' '1' '2' '1' '1' '1' '2' '0' '1' '0' '2' '0'\n",
      " '0' '0' '2' '1' '0' '2' '0' '1' '0' '2' '1' '0' '2' '0' '2' '1' '0' '0'\n",
      " '0' '0' '2' '1' '1' '1' '0' '1' '0' '0' '1' '0' '1' '1' '0' '1' '2' '0'\n",
      " '1' '1' '1' '1' '2' '1' '1' '1' '1' '0' '1' '2' '2' '2' '0' '0' '1' '1'\n",
      " '0' '1' '2' '2' '0' '1' '2' '2' '1' '2' '1' '0' '0' '2' '2' '1' '2' '2'\n",
      " '2' '2' '2' '0' '2' '1' '1' '1' '1' '0' '0' '2' '0' '0' '0' '0' '0' '0'\n",
      " '2' '1' '1' '0' '1' '2' '2' '0' '0' '0' '2' '1' '1' '0' '0' '0' '1' '0'\n",
      " '1' '2' '2' '2' '1' '2' '1' '1' '2' '2' '1' '1' '2' '1' '2' '1' '2' '2'\n",
      " '0' '0' '2' '0' '2' '2' '2' '1' '0' '0' '2' '0' '0' '0' '1' '2' '2' '1'\n",
      " '1' '0' '0' '1' '2' '1' '0' '2' '2' '0' '2' '1' '0' '2' '2' '0' '0' '1'\n",
      " '0' '0' '2' '2' '1' '1' '0' '2' '0' '0' '0' '1' '1' '0' '2' '0' '2' '0'\n",
      " '1' '1' '1' '2' '2' '0' '2' '1' '0' '2' '2' '1' '0' '2' '1' '2' '1' '2'\n",
      " '2' '0' '1' '1' '2' '2' '1' '1' '0' '0' '1' '0' '1' '2' '0' '0' '0' '1'\n",
      " '1' '0' '1' '2' '0' '1' '0' '0' '2' '0' '1' '0' '0' '1' '1' '1' '2' '2'\n",
      " '0' '0' '1' '2' '2' '2' '1' '0' '2' '2' '0' '0' '2' '2' '1' '2' '2' '1'\n",
      " '1' '1' '0' '1' '0' '2' '0' '2']\n"
     ]
    }
   ],
   "source": [
    "# 模型原標籤\n",
    "true_label = y_test_org\n",
    "true_label = np.array(true_label)\n",
    "print(true_label)\n",
    "# print(len(true_label))"
   ]
  },
  {
   "cell_type": "code",
   "execution_count": 58,
   "metadata": {},
   "outputs": [
    {
     "data": {
      "text/html": [
       "<div>\n",
       "<style scoped>\n",
       "    .dataframe tbody tr th:only-of-type {\n",
       "        vertical-align: middle;\n",
       "    }\n",
       "\n",
       "    .dataframe tbody tr th {\n",
       "        vertical-align: top;\n",
       "    }\n",
       "\n",
       "    .dataframe thead th {\n",
       "        text-align: right;\n",
       "    }\n",
       "</style>\n",
       "<table border=\"1\" class=\"dataframe\">\n",
       "  <thead>\n",
       "    <tr style=\"text-align: right;\">\n",
       "      <th>預測值</th>\n",
       "      <th>0</th>\n",
       "      <th>1</th>\n",
       "      <th>2</th>\n",
       "    </tr>\n",
       "    <tr>\n",
       "      <th>實際值</th>\n",
       "      <th></th>\n",
       "      <th></th>\n",
       "      <th></th>\n",
       "    </tr>\n",
       "  </thead>\n",
       "  <tbody>\n",
       "    <tr>\n",
       "      <th>0</th>\n",
       "      <td>160</td>\n",
       "      <td>82</td>\n",
       "      <td>1</td>\n",
       "    </tr>\n",
       "    <tr>\n",
       "      <th>1</th>\n",
       "      <td>51</td>\n",
       "      <td>232</td>\n",
       "      <td>10</td>\n",
       "    </tr>\n",
       "    <tr>\n",
       "      <th>2</th>\n",
       "      <td>3</td>\n",
       "      <td>126</td>\n",
       "      <td>135</td>\n",
       "    </tr>\n",
       "  </tbody>\n",
       "</table>\n",
       "</div>"
      ],
      "text/plain": [
       "預測值    0    1    2\n",
       "實際值               \n",
       "0    160   82    1\n",
       "1     51  232   10\n",
       "2      3  126  135"
      ]
     },
     "execution_count": 58,
     "metadata": {},
     "output_type": "execute_result"
    }
   ],
   "source": [
    "pd.crosstab(true_label,predict_label1,rownames=['實際值'],colnames=['預測值'])\n",
    "pd.crosstab(true_label,predict_label2,rownames=['實際值'],colnames=['預測值'])\n",
    "pd.crosstab(true_label,predict_label3,rownames=['實際值'],colnames=['預測值'])"
   ]
  },
  {
   "cell_type": "code",
   "execution_count": 59,
   "metadata": {},
   "outputs": [
    {
     "name": "stdout",
     "output_type": "stream",
     "text": [
      "正确率为:72.62%\n"
     ]
    }
   ],
   "source": [
    "# 整體準確度1\n",
    "count = 0\n",
    "for i in range(len(y_pred1)):\n",
    "    if(np.argmax(y_pred1[i]) == np.argmax(y_test[i])): #argmax函数找到最大值的索引，即为其类别\n",
    "        count += 1\n",
    "score = count/len(y_pred1)\n",
    "print('正确率为:%.2f%s' % (score*100,'%'))"
   ]
  },
  {
   "cell_type": "code",
   "execution_count": 60,
   "metadata": {},
   "outputs": [
    {
     "name": "stdout",
     "output_type": "stream",
     "text": [
      "正确率为:72.75%\n"
     ]
    }
   ],
   "source": [
    "# 整體準確度2\n",
    "count = 0\n",
    "for i in range(len(y_pred2)):\n",
    "    if(np.argmax(y_pred2[i]) == np.argmax(y_test[i])): #argmax函数找到最大值的索引，即为其类别\n",
    "        count += 1\n",
    "score = count/len(y_pred2)\n",
    "print('正确率为:%.2f%s' % (score*100,'%'))"
   ]
  },
  {
   "cell_type": "code",
   "execution_count": 61,
   "metadata": {},
   "outputs": [
    {
     "name": "stdout",
     "output_type": "stream",
     "text": [
      "正确率为:65.88%\n"
     ]
    }
   ],
   "source": [
    "# 整體準確度3\n",
    "count = 0\n",
    "for i in range(len(y_pred3)):\n",
    "    if(np.argmax(y_pred3[i]) == np.argmax(y_test[i])): #argmax函数找到最大值的索引，即为其类别\n",
    "        count += 1\n",
    "score = count/len(y_pred3)\n",
    "print('正确率为:%.2f%s' % (score*100,'%'))"
   ]
  },
  {
   "cell_type": "markdown",
   "metadata": {},
   "source": [
    "直接比對的話"
   ]
  },
  {
   "cell_type": "code",
   "execution_count": 62,
   "metadata": {},
   "outputs": [
    {
     "name": "stdout",
     "output_type": "stream",
     "text": [
      "[1 0 1 1 2 1 2 1 1 0 0 1 1 1 2 1 0 1 0 1 0 1 2 0 2 0 2 2 1 1 0 0 2 2 0 1 0\n",
      " 1 0 1 0 2 0 1 1 1 1 0 2 0 1 1 1 1 1 0 1 1 2 0 1 0 2 1 1 2 2 1 2 1 2 1 1 2\n",
      " 2 1 0 1 2 0 0 2 1 0 2 2 2 1 0 1 2 1 1 2 1 2 1 0 2 1 2 1 1 2 1 1 1 0 1 2 0\n",
      " 0 2 0 0 2 2 1 1 1 1 2 2 1 2 0 0 2 2 1 1 0 1 1 1 2 1 1 0 2 1 1 2 0 1 1 2 1\n",
      " 1 1 1 0 1 1 1 0 1 0 2 1 2 1 0 1 2 2 0 2 0 2 1 1 2 2 2 1 0 1 0 1 1 2 1 2 0\n",
      " 2 0 1 2 1 2 2 1 1 2 1 0 2 1 1 2 1 1 0 1 2 0 1 2 1 2 1 0 2 0 2 1 1 1 1 1 1\n",
      " 1 1 1 1 0 0 1 1 1 1 1 1 0 1 2 0 2 0 2 2 2 0 1 0 2 1 2 1 1 1 2 2 2 1 1 1 1\n",
      " 2 2 1 1 1 2 1 2 0 1 1 2 1 1 0 1 2 2 1 2 1 0 0 0 2 2 0 1 2 1 1 2 1 2 1 1 2\n",
      " 1 1 1 2 2 1 2 0 2 2 1 2 1 2 2 0 2 1 0 1 0 1 1 0 0 1 1 2 2 1 1 1 0 2 1 1 2\n",
      " 1 2 1 1 2 0 2 1 2 0 2 0 0 0 0 0 1 2 1 1 0 1 1 1 2 1 0 0 1 0 1 2 1 1 1 2 1\n",
      " 2 2 1 1 1 1 1 2 0 2 0 1 0 1 1 2 1 1 0 1 2 2 1 2 1 0 1 2 1 1 0 0 2 2 0 1 1\n",
      " 1 1 0 1 1 1 0 1 1 1 2 2 1 1 0 0 2 1 2 1 1 1 2 1 1 1 1 1 2 1 1 1 0 1 1 1 0\n",
      " 1 0 0 1 0 1 2 2 1 2 0 0 1 0 1 1 2 1 2 2 0 1 1 0 1 1 1 2 2 2 0 1 2 1 1 1 0\n",
      " 1 1 0 1 1 1 1 2 2 1 1 2 1 0 0 0 1 1 0 1 0 1 1 0 1 1 0 0 0 1 2 1 0 1 2 2 1\n",
      " 1 1 1 1 2 2 2 1 1 2 2 1 1 1 1 1 2 1 1 1 1 0 0 0 2 1 0 2 1 1 0 2 1 0 2 0 2\n",
      " 1 0 0 1 0 2 1 1 1 0 1 0 0 1 0 1 1 0 1 2 0 1 1 0 1 2 1 2 0 1 0 1 2 1 2 0 1\n",
      " 1 1 0 1 2 2 1 1 2 2 1 2 0 0 1 2 1 1 1 2 1 2 2 1 1 0 1 1 1 1 0 2 1 1 0 0 1\n",
      " 0 2 1 1 0 1 2 2 0 1 0 1 1 1 1 1 0 0 1 2 2 2 2 1 2 1 1 2 2 1 1 1 0 2 1 2 2\n",
      " 0 0 1 1 2 2 2 1 0 1 2 0 1 0 2 2 2 1 1 0 0 0 2 1 0 2 1 0 1 1 1 2 1 0 0 1 1\n",
      " 0 1 2 1 1 0 1 0 1 0 1 0 0 2 0 2 0 1 2 1 2 2 0 2 1 1 1 2 1 0 2 2 2 1 2 2 1\n",
      " 1 2 2 2 1 1 1 1 1 1 1 2 0 0 0 1 2 1 1 2 1 2 0 1 2 1 1 1 0 2 1 1 2 2 0 1 1\n",
      " 1 2 2 1 0 2 2 0 0 2 2 1 2 2 2 1 1 0 1 0 2 0 1]\n"
     ]
    }
   ],
   "source": [
    "bagging = predict_label3\n",
    "for i in range(len(y_pred1)):\n",
    "    if(np.argmax(y_pred1[i])==np.argmax(y_pred2[i])):\n",
    "        bagging[i]=np.argmax(y_pred1[i])\n",
    "    elif(np.argmax(y_pred1[i])==np.argmax(y_pred3[i])):\n",
    "        bagging[i]=np.argmax(y_pred1[i])\n",
    "    elif(np.argmax(y_pred2[i])==np.argmax(y_pred3[i])):\n",
    "        bagging[i]=np.argmax(y_pred2[i])\n",
    "    else:\n",
    "        bagging[i]=1\n",
    "print(bagging)"
   ]
  },
  {
   "cell_type": "code",
   "execution_count": 63,
   "metadata": {},
   "outputs": [
    {
     "name": "stdout",
     "output_type": "stream",
     "text": [
      "正确率为:75.12%\n"
     ]
    }
   ],
   "source": [
    "count = 0\n",
    "for i in range(len(y_pred3)):\n",
    "    if(bagging[i] == np.argmax(y_test[i])): #argmax函数找到最大值的索引，即为其类别\n",
    "        count += 1\n",
    "score = count/len(y_pred3)\n",
    "print('正确率为:%.2f%s' % (score*100,'%'))"
   ]
  },
  {
   "cell_type": "markdown",
   "metadata": {},
   "source": [
    "用加的"
   ]
  },
  {
   "cell_type": "code",
   "execution_count": 64,
   "metadata": {},
   "outputs": [
    {
     "name": "stdout",
     "output_type": "stream",
     "text": [
      "[1 0 1 1 2 1 2 1 1 0 0 1 1 1 2 1 0 1 0 0 0 1 2 0 1 0 2 2 0 1 0 0 1 2 0 0 0\n",
      " 0 0 1 0 2 0 1 1 1 1 0 2 0 1 1 1 1 1 0 1 1 2 0 1 0 2 1 1 2 2 0 2 1 2 1 1 2\n",
      " 2 1 1 0 2 0 0 2 1 1 2 2 2 1 0 1 2 1 1 2 1 2 1 0 2 1 2 1 1 2 1 1 1 0 1 2 2\n",
      " 0 1 0 0 2 2 1 1 1 1 1 2 1 2 0 0 1 2 1 1 0 1 1 1 2 1 1 0 2 0 1 2 0 1 1 2 1\n",
      " 1 1 1 0 1 1 1 0 1 0 2 1 2 1 0 1 2 2 0 2 0 2 1 1 2 2 2 1 0 0 0 1 1 2 1 2 0\n",
      " 2 0 1 2 1 2 2 1 1 2 1 0 2 1 1 2 1 1 0 1 2 0 1 2 1 2 1 0 2 0 2 1 1 1 1 1 1\n",
      " 1 1 1 1 0 0 1 1 0 1 1 1 0 1 2 0 2 0 2 2 2 0 0 0 2 1 2 1 0 1 2 2 2 0 1 1 1\n",
      " 2 2 1 1 0 2 1 2 0 1 1 2 1 1 0 0 2 2 1 2 1 0 0 1 2 2 0 1 2 1 1 2 1 2 1 1 1\n",
      " 0 1 1 2 2 0 2 0 2 2 1 2 1 2 2 0 2 1 0 1 0 1 1 0 0 1 1 2 2 1 1 1 0 2 1 1 2\n",
      " 1 2 1 1 2 0 2 1 2 0 2 0 0 0 0 0 1 2 1 2 0 0 1 1 2 1 0 0 2 0 1 2 1 1 1 1 1\n",
      " 2 2 1 1 1 1 1 2 0 2 0 1 0 1 1 2 1 1 0 2 2 2 1 2 1 0 1 2 1 1 0 0 2 1 0 1 1\n",
      " 1 1 0 1 1 1 0 1 1 1 2 2 1 2 0 0 2 1 2 1 1 1 2 1 1 0 1 1 2 1 1 1 0 1 0 1 0\n",
      " 1 0 0 1 0 1 2 2 1 2 0 0 1 0 1 1 2 1 2 2 0 1 1 0 1 1 1 2 2 2 0 1 2 1 1 1 0\n",
      " 1 1 1 1 1 1 1 2 2 1 2 1 1 0 0 0 1 1 0 1 0 1 1 0 1 1 0 0 0 1 2 1 0 1 2 2 1\n",
      " 0 1 1 1 2 2 2 1 1 2 2 1 2 1 1 1 2 1 1 1 1 0 0 1 2 1 0 2 1 1 0 2 1 0 2 0 2\n",
      " 1 0 0 0 0 2 1 1 1 0 1 1 0 1 0 1 1 0 1 2 0 1 1 0 1 2 1 2 0 1 0 1 1 1 2 0 1\n",
      " 1 1 0 1 2 2 1 1 2 2 1 2 0 0 1 2 1 1 1 2 1 2 2 1 1 0 1 1 1 1 0 2 1 1 0 0 1\n",
      " 0 2 1 1 0 1 2 2 0 1 0 1 1 1 0 1 0 0 1 1 2 2 2 1 2 1 1 2 2 1 1 1 0 2 1 2 2\n",
      " 0 0 2 0 2 2 2 1 0 0 2 0 1 0 2 2 2 1 1 0 0 0 2 1 0 2 1 0 1 1 1 2 1 0 0 1 1\n",
      " 0 1 2 1 1 0 1 0 0 0 1 0 0 2 0 2 0 1 2 1 2 2 1 2 1 0 1 2 1 0 2 1 2 1 2 2 1\n",
      " 1 2 2 2 1 1 0 1 1 1 1 2 0 0 1 1 2 1 1 2 0 2 0 1 2 0 1 1 0 1 1 1 2 2 0 0 1\n",
      " 1 2 2 1 0 2 2 0 0 2 2 1 2 2 2 1 1 0 1 0 2 0 1]\n",
      "正确率为:78.25%\n"
     ]
    }
   ],
   "source": [
    "y_pred4 = (y_pred1+y_pred2+y_pred3)/3.0\n",
    "predict_label4 = np.argmax(y_pred4,axis=1)\n",
    "print(predict_label4)\n",
    "pd.crosstab(true_label,predict_label4,rownames=['實際值'],colnames=['預測值'])\n",
    "count = 0\n",
    "for i in range(len(y_pred4)):\n",
    "    if(np.argmax(y_pred4[i]) == np.argmax(y_test[i])): #argmax函数找到最大值的索引，即为其类别\n",
    "        count += 1\n",
    "score = count/len(y_pred4)\n",
    "print('正确率为:%.2f%s' % (score*100,'%'))"
   ]
  },
  {
   "cell_type": "code",
   "execution_count": null,
   "metadata": {},
   "outputs": [],
   "source": []
  }
 ],
 "metadata": {
  "environment": {
   "name": "tf2-gpu.2-1.m46",
   "type": "gcloud",
   "uri": "gcr.io/deeplearning-platform-release/tf2-gpu.2-1:m46"
  },
  "kernelspec": {
   "display_name": "Python 3",
   "language": "python",
   "name": "python3"
  },
  "language_info": {
   "codemirror_mode": {
    "name": "ipython",
    "version": 3
   },
   "file_extension": ".py",
   "mimetype": "text/x-python",
   "name": "python",
   "nbconvert_exporter": "python",
   "pygments_lexer": "ipython3",
   "version": "3.7.6"
  }
 },
 "nbformat": 4,
 "nbformat_minor": 4
}
