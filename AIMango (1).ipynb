{
  "nbformat": 4,
  "nbformat_minor": 0,
  "metadata": {
    "kernelspec": {
      "name": "python3",
      "display_name": "Python 3"
    },
    "language_info": {
      "codemirror_mode": {
        "name": "ipython",
        "version": 3
      },
      "file_extension": ".py",
      "mimetype": "text/x-python",
      "name": "python",
      "nbconvert_exporter": "python",
      "pygments_lexer": "ipython3",
      "version": "3.7.6"
    },
    "colab": {
      "name": "AIMango.ipynb",
      "provenance": [],
      "collapsed_sections": [],
      "toc_visible": true
    },
    "accelerator": "GPU"
  },
  "cells": [
    {
      "cell_type": "markdown",
      "metadata": {
        "id": "7pkSTQbnky4Q",
        "colab_type": "text"
      },
      "source": [
        "## Connect GoogleColab"
      ]
    },
    {
      "cell_type": "code",
      "metadata": {
        "id": "gkHHMO3klUYi",
        "colab_type": "code",
        "outputId": "2f6d96f5-973d-4ac5-f533-e7ee8710053c",
        "colab": {
          "base_uri": "https://localhost:8080/",
          "height": 205
        }
      },
      "source": [
        "# 如果出現了長條型的可輸入單元格 代表你曾經 授權過了 可以直接跳到下一格\n",
        "!apt-get install -y -qq software-properties-common module-init-tools\n",
        "!add-apt-repository -y ppa:alessandro-strada/ppa 2>&1 > /dev/null\n",
        "!apt-get update -qq 2>&1 > /dev/null\n",
        "!apt-get -y install -qq google-drive-ocamlfuse fuse\n",
        "from google.colab import auth\n",
        "auth.authenticate_user()\n",
        "from oauth2client.client import GoogleCredentials\n",
        "creds = GoogleCredentials.get_application_default()\n",
        "import getpass\n",
        "!google-drive-ocamlfuse -headless -id={creds.client_id} -secret={creds.client_secret} < /dev/null 2>&1 | grep URL\n",
        "vcode = getpass.getpass()\n",
        "!echo {vcode} | google-drive-ocamlfuse -headless -id={creds.client_id} -secret={creds.client_secret}"
      ],
      "execution_count": 1,
      "outputs": [
        {
          "output_type": "stream",
          "text": [
            "Selecting previously unselected package google-drive-ocamlfuse.\n",
            "(Reading database ... 144433 files and directories currently installed.)\n",
            "Preparing to unpack .../google-drive-ocamlfuse_0.7.21-0ubuntu1~ubuntu18.04.1_amd64.deb ...\n",
            "Unpacking google-drive-ocamlfuse (0.7.21-0ubuntu1~ubuntu18.04.1) ...\n",
            "Setting up google-drive-ocamlfuse (0.7.21-0ubuntu1~ubuntu18.04.1) ...\n",
            "Processing triggers for man-db (2.8.3-2ubuntu0.1) ...\n",
            "Please, open the following URL in a web browser: https://accounts.google.com/o/oauth2/auth?client_id=32555940559.apps.googleusercontent.com&redirect_uri=urn%3Aietf%3Awg%3Aoauth%3A2.0%3Aoob&scope=https%3A%2F%2Fwww.googleapis.com%2Fauth%2Fdrive&response_type=code&access_type=offline&approval_prompt=force\n",
            "··········\n",
            "Please, open the following URL in a web browser: https://accounts.google.com/o/oauth2/auth?client_id=32555940559.apps.googleusercontent.com&redirect_uri=urn%3Aietf%3Awg%3Aoauth%3A2.0%3Aoob&scope=https%3A%2F%2Fwww.googleapis.com%2Fauth%2Fdrive&response_type=code&access_type=offline&approval_prompt=force\n",
            "Please enter the verification code: Access token retrieved correctly.\n"
          ],
          "name": "stdout"
        }
      ]
    },
    {
      "cell_type": "code",
      "metadata": {
        "id": "3YBop0xilWN4",
        "colab_type": "code",
        "colab": {}
      },
      "source": [
        "# 指定Google Drive雲端硬盤的根目錄，名為drive\n",
        "!mkdir -p drive\n",
        "!google-drive-ocamlfuse drive"
      ],
      "execution_count": 0,
      "outputs": []
    },
    {
      "cell_type": "code",
      "metadata": {
        "id": "q5GIFPI7lX14",
        "colab_type": "code",
        "colab": {}
      },
      "source": [
        "import os\n",
        "os.chdir(\"drive\")\n",
        "if(\"Colab Notebooks\" in os.listdir()):\n",
        "  os.chdir(\"Colab Notebooks\")\n",
        "else:\n",
        "  os.mkdir(\"Colab Notebooks\")\n",
        "  os.chdir(\"Colab Notebooks\")"
      ],
      "execution_count": 0,
      "outputs": []
    },
    {
      "cell_type": "markdown",
      "metadata": {
        "id": "bUJCH3yIky4W",
        "colab_type": "text"
      },
      "source": [
        "## 一、載入相關套件"
      ]
    },
    {
      "cell_type": "code",
      "metadata": {
        "id": "uhSAutMdky4X",
        "colab_type": "code",
        "colab": {
          "base_uri": "https://localhost:8080/",
          "height": 70
        },
        "outputId": "249a845f-0301-41da-daf5-a0ab442f687d"
      },
      "source": [
        "# 資料處理套件\n",
        "import cv2\n",
        "import csv\n",
        "import random\n",
        "import time\n",
        "import numpy as np\n",
        "import pandas as pd\n",
        "import matplotlib.image as mpimg # mpimg 用於讀取圖片\n",
        "import matplotlib.pyplot as plt # plt 用於顯示圖片\n",
        "import seaborn as sns"
      ],
      "execution_count": 4,
      "outputs": [
        {
          "output_type": "stream",
          "text": [
            "/usr/local/lib/python3.6/dist-packages/statsmodels/tools/_testing.py:19: FutureWarning: pandas.util.testing is deprecated. Use the functions in the public API at pandas.testing instead.\n",
            "  import pandas.util.testing as tm\n"
          ],
          "name": "stderr"
        }
      ]
    },
    {
      "cell_type": "code",
      "metadata": {
        "id": "ToAwBKMcky4b",
        "colab_type": "code",
        "colab": {}
      },
      "source": [
        "# 設定顯示中文字體\n",
        "from matplotlib.font_manager import FontProperties\n",
        "plt.rcParams['font.sans-serif'] = ['Microsoft JhengHei'] "
      ],
      "execution_count": 0,
      "outputs": []
    },
    {
      "cell_type": "code",
      "metadata": {
        "id": "6nvC5t61ky4e",
        "colab_type": "code",
        "colab": {
          "base_uri": "https://localhost:8080/",
          "height": 34
        },
        "outputId": "0915c0d3-285a-4cbc-e076-116c22b7a23e"
      },
      "source": [
        "# Keras深度學習模組套件\n",
        "from keras.utils.np_utils import to_categorical\n",
        "from keras.preprocessing.image import ImageDataGenerator, array_to_img, img_to_array, load_img\n",
        "from keras.optimizers import RMSprop\n",
        "from keras.models import Sequential\n",
        "from keras import utils as np_utils\n",
        "from keras import backend as K\n",
        "from keras import optimizers"
      ],
      "execution_count": 6,
      "outputs": [
        {
          "output_type": "stream",
          "text": [
            "Using TensorFlow backend.\n"
          ],
          "name": "stderr"
        }
      ]
    },
    {
      "cell_type": "code",
      "metadata": {
        "id": "DNhU-tX9ky4i",
        "colab_type": "code",
        "colab": {}
      },
      "source": [
        "# tensorflow深度學習模組套件\n",
        "from tensorflow.keras import models\n",
        "from tensorflow.keras import layers\n",
        "from tensorflow import keras\n",
        "import tensorflow as tf"
      ],
      "execution_count": 0,
      "outputs": []
    },
    {
      "cell_type": "code",
      "metadata": {
        "id": "2V7wMEdSky4n",
        "colab_type": "code",
        "colab": {
          "base_uri": "https://localhost:8080/",
          "height": 50
        },
        "outputId": "daa75268-6f37-4925-f751-d97f171115ab"
      },
      "source": [
        "# 打印相關版本\n",
        "print(pd.__version__)\n",
        "print(tf.__version__)"
      ],
      "execution_count": 8,
      "outputs": [
        {
          "output_type": "stream",
          "text": [
            "1.0.3\n",
            "2.2.0\n"
          ],
          "name": "stdout"
        }
      ]
    },
    {
      "cell_type": "code",
      "metadata": {
        "id": "pjG7ikFzky4q",
        "colab_type": "code",
        "colab": {
          "base_uri": "https://localhost:8080/",
          "height": 34
        },
        "outputId": "a2d46d26-950e-44b1-9f7f-1c704141436e"
      },
      "source": [
        "# 查看通道位置\n",
        "print(K.image_data_format())"
      ],
      "execution_count": 9,
      "outputs": [
        {
          "output_type": "stream",
          "text": [
            "channels_last\n"
          ],
          "name": "stdout"
        }
      ]
    },
    {
      "cell_type": "code",
      "metadata": {
        "id": "6BjtqgUamoLA",
        "colab_type": "code",
        "colab": {
          "base_uri": "https://localhost:8080/",
          "height": 34
        },
        "outputId": "bd3fa1e2-e88d-4f1f-98d5-cd3e0cb24a5e"
      },
      "source": [
        "!ls"
      ],
      "execution_count": 10,
      "outputs": [
        {
          "output_type": "stream",
          "text": [
            "AIMango  drive\n"
          ],
          "name": "stdout"
        }
      ]
    },
    {
      "cell_type": "markdown",
      "metadata": {
        "id": "UIMDkuytky4t",
        "colab_type": "text"
      },
      "source": [
        "## 二、讀取資料"
      ]
    },
    {
      "cell_type": "code",
      "metadata": {
        "id": "qEusWerSky4u",
        "colab_type": "code",
        "colab": {}
      },
      "source": [
        "# 讀取資料集標籤檔\n",
        "Sample_label = pd.read_csv(\"AIMango/Sample_Label1.csv\",encoding=\"utf8\")"
      ],
      "execution_count": 0,
      "outputs": []
    },
    {
      "cell_type": "code",
      "metadata": {
        "id": "o4fR0Xf2ky4x",
        "colab_type": "code",
        "colab": {
          "base_uri": "https://localhost:8080/",
          "height": 195
        },
        "outputId": "b88484f0-9a42-4348-86cb-9b6cf95d2353"
      },
      "source": [
        "# 顯示資料集標籤檔\n",
        "Sample_label.head()"
      ],
      "execution_count": 12,
      "outputs": [
        {
          "output_type": "execute_result",
          "data": {
            "text/html": [
              "<div>\n",
              "<style scoped>\n",
              "    .dataframe tbody tr th:only-of-type {\n",
              "        vertical-align: middle;\n",
              "    }\n",
              "\n",
              "    .dataframe tbody tr th {\n",
              "        vertical-align: top;\n",
              "    }\n",
              "\n",
              "    .dataframe thead th {\n",
              "        text-align: right;\n",
              "    }\n",
              "</style>\n",
              "<table border=\"1\" class=\"dataframe\">\n",
              "  <thead>\n",
              "    <tr style=\"text-align: right;\">\n",
              "      <th></th>\n",
              "      <th>00002.jpg</th>\n",
              "      <th>C</th>\n",
              "    </tr>\n",
              "  </thead>\n",
              "  <tbody>\n",
              "    <tr>\n",
              "      <th>0</th>\n",
              "      <td>00003.jpg</td>\n",
              "      <td>C</td>\n",
              "    </tr>\n",
              "    <tr>\n",
              "      <th>1</th>\n",
              "      <td>00004.jpg</td>\n",
              "      <td>B</td>\n",
              "    </tr>\n",
              "    <tr>\n",
              "      <th>2</th>\n",
              "      <td>00005.jpg</td>\n",
              "      <td>A</td>\n",
              "    </tr>\n",
              "    <tr>\n",
              "      <th>3</th>\n",
              "      <td>00007.jpg</td>\n",
              "      <td>A</td>\n",
              "    </tr>\n",
              "    <tr>\n",
              "      <th>4</th>\n",
              "      <td>00008.jpg</td>\n",
              "      <td>B</td>\n",
              "    </tr>\n",
              "  </tbody>\n",
              "</table>\n",
              "</div>"
            ],
            "text/plain": [
              "   00002.jpg  C\n",
              "0  00003.jpg  C\n",
              "1  00004.jpg  B\n",
              "2  00005.jpg  A\n",
              "3  00007.jpg  A\n",
              "4  00008.jpg  B"
            ]
          },
          "metadata": {
            "tags": []
          },
          "execution_count": 12
        }
      ]
    },
    {
      "cell_type": "code",
      "metadata": {
        "id": "IzDVe5Suky40",
        "colab_type": "code",
        "colab": {}
      },
      "source": [
        "# 串接圖片檔的路徑\n",
        "Sample_pics_path = os.path.join(\"AIMango/sample_image\")"
      ],
      "execution_count": 0,
      "outputs": []
    },
    {
      "cell_type": "code",
      "metadata": {
        "id": "uqu1heF3ky43",
        "colab_type": "code",
        "colab": {}
      },
      "source": [
        "# 讀取路徑中的圖片\n",
        "train_mango_fnames = os.listdir(Sample_pics_path)"
      ],
      "execution_count": 0,
      "outputs": []
    },
    {
      "cell_type": "code",
      "metadata": {
        "id": "B596KSnxky46",
        "colab_type": "code",
        "colab": {
          "base_uri": "https://localhost:8080/",
          "height": 67
        },
        "outputId": "36bb6162-bc5d-46da-8902-1c04a598efec"
      },
      "source": [
        "# 檢視是否有讀取到圖片\n",
        "print(train_mango_fnames[0])\n",
        "print(train_mango_fnames[1])\n",
        "print(train_mango_fnames[2])"
      ],
      "execution_count": 15,
      "outputs": [
        {
          "output_type": "stream",
          "text": [
            "00122.jpg 的副本\n",
            "00144.jpg 的副本\n",
            "00134.jpg 的副本\n"
          ],
          "name": "stdout"
        }
      ]
    },
    {
      "cell_type": "code",
      "metadata": {
        "id": "__aNQ61bky49",
        "colab_type": "code",
        "colab": {}
      },
      "source": [
        "# 用於瀏覽標籤檔的概況\n",
        "label_Survey = pd.read_csv(\"AIMango/Sample_SurveyLabel1.csv\",encoding=\"utf8\")"
      ],
      "execution_count": 0,
      "outputs": []
    },
    {
      "cell_type": "code",
      "metadata": {
        "id": "-XqcvePnky4_",
        "colab_type": "code",
        "colab": {
          "base_uri": "https://localhost:8080/",
          "height": 195
        },
        "outputId": "88238dd1-afba-43cf-f7d7-94ef43ba57d5"
      },
      "source": [
        "label_Survey.head()"
      ],
      "execution_count": 17,
      "outputs": [
        {
          "output_type": "execute_result",
          "data": {
            "text/html": [
              "<div>\n",
              "<style scoped>\n",
              "    .dataframe tbody tr th:only-of-type {\n",
              "        vertical-align: middle;\n",
              "    }\n",
              "\n",
              "    .dataframe tbody tr th {\n",
              "        vertical-align: top;\n",
              "    }\n",
              "\n",
              "    .dataframe thead th {\n",
              "        text-align: right;\n",
              "    }\n",
              "</style>\n",
              "<table border=\"1\" class=\"dataframe\">\n",
              "  <thead>\n",
              "    <tr style=\"text-align: right;\">\n",
              "      <th></th>\n",
              "      <th>Pics</th>\n",
              "      <th>Level</th>\n",
              "    </tr>\n",
              "  </thead>\n",
              "  <tbody>\n",
              "    <tr>\n",
              "      <th>0</th>\n",
              "      <td>00002.jpg</td>\n",
              "      <td>C</td>\n",
              "    </tr>\n",
              "    <tr>\n",
              "      <th>1</th>\n",
              "      <td>00003.jpg</td>\n",
              "      <td>C</td>\n",
              "    </tr>\n",
              "    <tr>\n",
              "      <th>2</th>\n",
              "      <td>00004.jpg</td>\n",
              "      <td>B</td>\n",
              "    </tr>\n",
              "    <tr>\n",
              "      <th>3</th>\n",
              "      <td>00005.jpg</td>\n",
              "      <td>A</td>\n",
              "    </tr>\n",
              "    <tr>\n",
              "      <th>4</th>\n",
              "      <td>00007.jpg</td>\n",
              "      <td>A</td>\n",
              "    </tr>\n",
              "  </tbody>\n",
              "</table>\n",
              "</div>"
            ],
            "text/plain": [
              "        Pics Level\n",
              "0  00002.jpg     C\n",
              "1  00003.jpg     C\n",
              "2  00004.jpg     B\n",
              "3  00005.jpg     A\n",
              "4  00007.jpg     A"
            ]
          },
          "metadata": {
            "tags": []
          },
          "execution_count": 17
        }
      ]
    },
    {
      "cell_type": "code",
      "metadata": {
        "id": "H3qI2WNIky5C",
        "colab_type": "code",
        "colab": {
          "base_uri": "https://localhost:8080/",
          "height": 296
        },
        "outputId": "43e8fc02-45d5-4df5-c208-5d2139ccb69a"
      },
      "source": [
        "sns.countplot(label_Survey['Level'], hue = label_Survey[\"Level\"])"
      ],
      "execution_count": 18,
      "outputs": [
        {
          "output_type": "execute_result",
          "data": {
            "text/plain": [
              "<matplotlib.axes._subplots.AxesSubplot at 0x7facb044c3c8>"
            ]
          },
          "metadata": {
            "tags": []
          },
          "execution_count": 18
        },
        {
          "output_type": "stream",
          "text": [
            "findfont: Font family ['sans-serif'] not found. Falling back to DejaVu Sans.\n"
          ],
          "name": "stderr"
        },
        {
          "output_type": "display_data",
          "data": {
            "image/png": "[encoded data removed]",
            "text/plain": [
              "<Figure size 432x288 with 1 Axes>"
            ]
          },
          "metadata": {
            "tags": [],
            "needs_background": "light"
          }
        }
      ]
    },
    {
      "cell_type": "code",
      "metadata": {
        "id": "yUHf0pcyky5G",
        "colab_type": "code",
        "colab": {
          "base_uri": "https://localhost:8080/",
          "height": 101
        },
        "outputId": "0bab47ae-0681-475d-e292-b0f0b59281eb"
      },
      "source": [
        "sector = label_Survey.groupby('Level')\n",
        "sector.size()"
      ],
      "execution_count": 19,
      "outputs": [
        {
          "output_type": "execute_result",
          "data": {
            "text/plain": [
              "Level\n",
              "A    51\n",
              "B    79\n",
              "C    59\n",
              "dtype: int64"
            ]
          },
          "metadata": {
            "tags": []
          },
          "execution_count": 19
        }
      ]
    },
    {
      "cell_type": "markdown",
      "metadata": {
        "id": "hODXuJGeky5J",
        "colab_type": "text"
      },
      "source": [
        "## 三、顯示芒果圖片"
      ]
    },
    {
      "cell_type": "code",
      "metadata": {
        "id": "dthK9fxzky5K",
        "colab_type": "code",
        "colab": {
          "base_uri": "https://localhost:8080/",
          "height": 34
        },
        "outputId": "435109c3-0497-40cb-f459-e346a4160183"
      },
      "source": [
        "# 讀取圖檔\n",
        "img = mpimg.imread(\"AIMango/sample_image/00267.jpg\")\n",
        "# 查看資料型態\n",
        "type(img)"
      ],
      "execution_count": 20,
      "outputs": [
        {
          "output_type": "execute_result",
          "data": {
            "text/plain": [
              "numpy.ndarray"
            ]
          },
          "metadata": {
            "tags": []
          },
          "execution_count": 20
        }
      ]
    },
    {
      "cell_type": "code",
      "metadata": {
        "id": "LBPu1SQAky5N",
        "colab_type": "code",
        "colab": {
          "base_uri": "https://localhost:8080/",
          "height": 34
        },
        "outputId": "58b09330-fd23-4382-c6e6-5d6311abed33"
      },
      "source": [
        "# 顯示圖片的比例\n",
        "img.shape"
      ],
      "execution_count": 21,
      "outputs": [
        {
          "output_type": "execute_result",
          "data": {
            "text/plain": [
              "(1008, 1344, 3)"
            ]
          },
          "metadata": {
            "tags": []
          },
          "execution_count": 21
        }
      ]
    },
    {
      "cell_type": "code",
      "metadata": {
        "id": "yvdbgUIgky5P",
        "colab_type": "code",
        "colab": {}
      },
      "source": [
        "# 把圖片的比例壓縮至800x800 \n",
        "res = cv2.resize(img,(800,800),interpolation=cv2.INTER_LINEAR)"
      ],
      "execution_count": 0,
      "outputs": []
    },
    {
      "cell_type": "code",
      "metadata": {
        "id": "dAq7o8nWky5S",
        "colab_type": "code",
        "colab": {
          "base_uri": "https://localhost:8080/",
          "height": 34
        },
        "outputId": "b1296921-1de6-4ecb-8bdc-ef3b2e2a950c"
      },
      "source": [
        "# 顯示壓縮後圖片的比例\n",
        "res.shape"
      ],
      "execution_count": 23,
      "outputs": [
        {
          "output_type": "execute_result",
          "data": {
            "text/plain": [
              "(800, 800, 3)"
            ]
          },
          "metadata": {
            "tags": []
          },
          "execution_count": 23
        }
      ]
    },
    {
      "cell_type": "code",
      "metadata": {
        "id": "LsyXfF5Gky5V",
        "colab_type": "code",
        "colab": {
          "base_uri": "https://localhost:8080/",
          "height": 248
        },
        "outputId": "0f7baa23-11af-4d7e-e718-4053e0e1f401"
      },
      "source": [
        "# 顯示原圖的芒果照片\n",
        "plt.imshow(img)\n",
        "plt.axis('off')\n",
        "plt.show()"
      ],
      "execution_count": 24,
      "outputs": [
        {
          "output_type": "display_data",
          "data": {
            "image/png": "[encoded data removed]",
            "text/plain": [
              "<Figure size 432x288 with 1 Axes>"
            ]
          },
          "metadata": {
            "tags": [],
            "needs_background": "light"
          }
        }
      ]
    },
    {
      "cell_type": "code",
      "metadata": {
        "id": "cAMk253Pky5X",
        "colab_type": "code",
        "colab": {
          "base_uri": "https://localhost:8080/",
          "height": 248
        },
        "outputId": "fcdc739e-c2be-423f-e44c-acbc0206f81d"
      },
      "source": [
        "# 顯示壓縮過原圖的芒果照片\n",
        "plt.imshow(res)\n",
        "plt.axis('off')\n",
        "plt.show()"
      ],
      "execution_count": 25,
      "outputs": [
        {
          "output_type": "display_data",
          "data": {
            "image/png": "[encoded data removed]",
            "text/plain": [
              "<Figure size 432x288 with 1 Axes>"
            ]
          },
          "metadata": {
            "tags": [],
            "needs_background": "light"
          }
        }
      ]
    },
    {
      "cell_type": "markdown",
      "metadata": {
        "id": "1Ce_FCtAky5b",
        "colab_type": "text"
      },
      "source": [
        "## 四、製作標籤&資料集"
      ]
    },
    {
      "cell_type": "code",
      "metadata": {
        "id": "n3rX2gA5ky5c",
        "colab_type": "code",
        "colab": {}
      },
      "source": [
        "csvfile = open('AIMango/Sample_Label1.csv')\n",
        "reader = csv.reader(csvfile)"
      ],
      "execution_count": 0,
      "outputs": []
    },
    {
      "cell_type": "code",
      "metadata": {
        "id": "LXZeKFOQky5g",
        "colab_type": "code",
        "colab": {}
      },
      "source": [
        "# 讀取csv標籤\n",
        "labels = []\n",
        "for line in reader:\n",
        "    tmp = [line[0],line[1]]\n",
        "    # print tmp\n",
        "    labels.append(tmp)\n",
        "\n",
        "csvfile.close() "
      ],
      "execution_count": 0,
      "outputs": []
    },
    {
      "cell_type": "code",
      "metadata": {
        "id": "JrxY-sO6ky5i",
        "colab_type": "code",
        "colab": {
          "base_uri": "https://localhost:8080/",
          "height": 34
        },
        "outputId": "d24df52e-82dc-4b42-c5ce-782299c5a8d4"
      },
      "source": [
        "picnum = len(labels)\n",
        "print(\"芒果圖片數量: \",picnum)"
      ],
      "execution_count": 28,
      "outputs": [
        {
          "output_type": "stream",
          "text": [
            "芒果圖片數量:  189\n"
          ],
          "name": "stdout"
        }
      ]
    },
    {
      "cell_type": "code",
      "metadata": {
        "id": "JELGmZ13ky5l",
        "colab_type": "code",
        "colab": {
          "base_uri": "https://localhost:8080/",
          "height": 34
        },
        "outputId": "88774a3e-584d-4c2f-f897-fd304186e1da"
      },
      "source": [
        "labels[8]"
      ],
      "execution_count": 29,
      "outputs": [
        {
          "output_type": "execute_result",
          "data": {
            "text/plain": [
              "['00012.jpg', 'A']"
            ]
          },
          "metadata": {
            "tags": []
          },
          "execution_count": 29
        }
      ]
    },
    {
      "cell_type": "code",
      "metadata": {
        "id": "OORjRm0Sky5n",
        "colab_type": "code",
        "colab": {}
      },
      "source": [
        "X = []\n",
        "y = []"
      ],
      "execution_count": 0,
      "outputs": []
    },
    {
      "cell_type": "code",
      "metadata": {
        "id": "aG4X4zzmky5q",
        "colab_type": "code",
        "colab": {}
      },
      "source": [
        "# 轉換圖片的標籤\n",
        "for i in range(len(labels)):\n",
        "    labels[i][1] = labels[i][1].replace(\"A\",\"0\")\n",
        "    labels[i][1] = labels[i][1].replace(\"B\",\"1\")\n",
        "    labels[i][1] = labels[i][1].replace(\"C\",\"2\")"
      ],
      "execution_count": 0,
      "outputs": []
    },
    {
      "cell_type": "code",
      "metadata": {
        "id": "XasMaXzVky5s",
        "colab_type": "code",
        "colab": {}
      },
      "source": [
        "# 隨機讀取圖片\n",
        "a = 0\n",
        "items= []"
      ],
      "execution_count": 0,
      "outputs": []
    },
    {
      "cell_type": "code",
      "metadata": {
        "id": "TYao-U_qky5u",
        "colab_type": "code",
        "colab": {}
      },
      "source": [
        "import random\n",
        "for a in range(0,189):\n",
        "    items.append(a)"
      ],
      "execution_count": 0,
      "outputs": []
    },
    {
      "cell_type": "code",
      "metadata": {
        "id": "sYQnxHHVky5w",
        "colab_type": "code",
        "colab": {}
      },
      "source": [
        "# 製作訓練用資料集及標籤\n",
        "for i in random.sample(items,189):\n",
        "    img = cv2.imread(\"AIMango/sample_image/\" + labels[i][0] )\n",
        "    res = cv2.resize(img,(800,800),interpolation=cv2.INTER_LINEAR)\n",
        "    res = img_to_array(res)\n",
        "    X.append(res)    \n",
        "    y.append(labels[i][1])"
      ],
      "execution_count": 0,
      "outputs": []
    },
    {
      "cell_type": "code",
      "metadata": {
        "id": "iZhyU2ANky5y",
        "colab_type": "code",
        "colab": {}
      },
      "source": [
        "y_label_org = y"
      ],
      "execution_count": 0,
      "outputs": []
    },
    {
      "cell_type": "code",
      "metadata": {
        "id": "UhZQkZ91ky50",
        "colab_type": "code",
        "colab": {
          "base_uri": "https://localhost:8080/",
          "height": 134
        },
        "outputId": "72311891-54b0-4b2b-940f-32abbd347560"
      },
      "source": [
        "img[0]"
      ],
      "execution_count": 36,
      "outputs": [
        {
          "output_type": "execute_result",
          "data": {
            "text/plain": [
              "array([[ 97, 100,  75],\n",
              "       [ 97, 100,  75],\n",
              "       [ 97, 100,  75],\n",
              "       ...,\n",
              "       [148, 144, 150],\n",
              "       [147, 143, 149],\n",
              "       [147, 143, 149]], dtype=uint8)"
            ]
          },
          "metadata": {
            "tags": []
          },
          "execution_count": 36
        }
      ]
    },
    {
      "cell_type": "code",
      "metadata": {
        "id": "ss-j56J1ky54",
        "colab_type": "code",
        "colab": {
          "base_uri": "https://localhost:8080/",
          "height": 50
        },
        "outputId": "57647efe-9b42-4b77-95c7-880f97792cc2"
      },
      "source": [
        "print(len(X))\n",
        "print(len(y))"
      ],
      "execution_count": 37,
      "outputs": [
        {
          "output_type": "stream",
          "text": [
            "189\n",
            "189\n"
          ],
          "name": "stdout"
        }
      ]
    },
    {
      "cell_type": "code",
      "metadata": {
        "id": "U7d5quZCky55",
        "colab_type": "code",
        "colab": {}
      },
      "source": [
        "# 轉換至array的格式\n",
        "X = np.array(X)\n",
        "y = np.array(y)"
      ],
      "execution_count": 0,
      "outputs": []
    },
    {
      "cell_type": "code",
      "metadata": {
        "id": "8BIgyAY7ky57",
        "colab_type": "code",
        "colab": {}
      },
      "source": [
        "# 轉換至float的格式\n",
        "for i in range(len(X)):\n",
        "    X[i] = X[i].astype('float32')"
      ],
      "execution_count": 0,
      "outputs": []
    },
    {
      "cell_type": "code",
      "metadata": {
        "id": "AKmCzMGsky59",
        "colab_type": "code",
        "colab": {
          "base_uri": "https://localhost:8080/",
          "height": 84
        },
        "outputId": "501116b3-f5f3-465e-8bc7-64f8b210dc90"
      },
      "source": [
        "# 打映圖片訓練集的概況\n",
        "# print(X[0])\n",
        "print(type(X))\n",
        "print(X.shape)\n",
        "\n",
        "print(X[0].shape)\n",
        "print(type(X[0]))"
      ],
      "execution_count": 40,
      "outputs": [
        {
          "output_type": "stream",
          "text": [
            "<class 'numpy.ndarray'>\n",
            "(189, 800, 800, 3)\n",
            "(800, 800, 3)\n",
            "<class 'numpy.ndarray'>\n"
          ],
          "name": "stdout"
        }
      ]
    },
    {
      "cell_type": "code",
      "metadata": {
        "id": "fucIRN4Uky5_",
        "colab_type": "code",
        "colab": {}
      },
      "source": [
        "# 將標籤轉換至float格式\n",
        "y = tf.strings.to_number(y, out_type=tf.float32)"
      ],
      "execution_count": 0,
      "outputs": []
    },
    {
      "cell_type": "code",
      "metadata": {
        "id": "BlRzPppPky6B",
        "colab_type": "code",
        "colab": {
          "base_uri": "https://localhost:8080/",
          "height": 50
        },
        "outputId": "04e117c5-4f73-4a9c-891a-48ee934b3443"
      },
      "source": [
        "# 打映圖片標籤的概況\n",
        "print(y[0])\n",
        "print(type(y[0]))"
      ],
      "execution_count": 42,
      "outputs": [
        {
          "output_type": "stream",
          "text": [
            "tf.Tensor(2.0, shape=(), dtype=float32)\n",
            "<class 'tensorflow.python.framework.ops.EagerTensor'>\n"
          ],
          "name": "stdout"
        }
      ]
    },
    {
      "cell_type": "code",
      "metadata": {
        "id": "Eq-1jCCaky6D",
        "colab_type": "code",
        "colab": {}
      },
      "source": [
        "# 標籤進行one-hotencoding\n",
        "y = np_utils.to_categorical(y, num_classes = 3)"
      ],
      "execution_count": 0,
      "outputs": []
    },
    {
      "cell_type": "code",
      "metadata": {
        "id": "CiqdGCCAky6G",
        "colab_type": "code",
        "colab": {
          "base_uri": "https://localhost:8080/",
          "height": 34
        },
        "outputId": "daccc35c-ff4c-4b70-c4c8-9eb1509f3029"
      },
      "source": [
        "y[0]"
      ],
      "execution_count": 44,
      "outputs": [
        {
          "output_type": "execute_result",
          "data": {
            "text/plain": [
              "array([0., 0., 1.], dtype=float32)"
            ]
          },
          "metadata": {
            "tags": []
          },
          "execution_count": 44
        }
      ]
    },
    {
      "cell_type": "markdown",
      "metadata": {
        "id": "B_tpTHuwky6I",
        "colab_type": "text"
      },
      "source": [
        "## 五、製作訓練資料集"
      ]
    },
    {
      "cell_type": "code",
      "metadata": {
        "id": "gcHqHmdtH8Yx",
        "colab_type": "code",
        "colab": {}
      },
      "source": [
        "# 分配訓練集及測試集比例\n",
        "x_train = X[:167]\n",
        "y_train = y[:167]\n",
        "x_test = X[167:]\n",
        "y_test = y[167:]"
      ],
      "execution_count": 0,
      "outputs": []
    },
    {
      "cell_type": "code",
      "metadata": {
        "scrolled": true,
        "id": "ik0vIZ5Yky6L",
        "colab_type": "code",
        "colab": {
          "base_uri": "https://localhost:8080/",
          "height": 386
        },
        "outputId": "b139b5be-7ca9-41c5-91c5-1a2395dbdea2"
      },
      "source": [
        "y_test"
      ],
      "execution_count": 46,
      "outputs": [
        {
          "output_type": "execute_result",
          "data": {
            "text/plain": [
              "array([[0., 1., 0.],\n",
              "       [0., 1., 0.],\n",
              "       [0., 1., 0.],\n",
              "       [0., 0., 1.],\n",
              "       [0., 1., 0.],\n",
              "       [0., 1., 0.],\n",
              "       [0., 1., 0.],\n",
              "       [0., 1., 0.],\n",
              "       [1., 0., 0.],\n",
              "       [0., 1., 0.],\n",
              "       [0., 0., 1.],\n",
              "       [0., 0., 1.],\n",
              "       [1., 0., 0.],\n",
              "       [1., 0., 0.],\n",
              "       [0., 1., 0.],\n",
              "       [1., 0., 0.],\n",
              "       [0., 0., 1.],\n",
              "       [0., 1., 0.],\n",
              "       [0., 1., 0.],\n",
              "       [1., 0., 0.],\n",
              "       [1., 0., 0.],\n",
              "       [0., 1., 0.]], dtype=float32)"
            ]
          },
          "metadata": {
            "tags": []
          },
          "execution_count": 46
        }
      ]
    },
    {
      "cell_type": "code",
      "metadata": {
        "id": "ZQwUinV8ky6O",
        "colab_type": "code",
        "colab": {}
      },
      "source": [
        "y_train_label = [0.,0.,0.]\n",
        "\n",
        "for i in range(0,len(y_train)):\n",
        "    y_train_label = y_train[i] + y_train_label"
      ],
      "execution_count": 0,
      "outputs": []
    },
    {
      "cell_type": "code",
      "metadata": {
        "id": "7mYxm5tWky6Q",
        "colab_type": "code",
        "colab": {}
      },
      "source": [
        "y_test_label = [0.,0.,0.]\n",
        "\n",
        "for i in range(0,len(y_test)):\n",
        "    y_test_label = y_train[i] + y_test_label"
      ],
      "execution_count": 0,
      "outputs": []
    },
    {
      "cell_type": "code",
      "metadata": {
        "id": "NeaCWuopky6S",
        "colab_type": "code",
        "colab": {
          "base_uri": "https://localhost:8080/",
          "height": 34
        },
        "outputId": "762bf31b-ca48-43a6-8004-9a3dc6ec5ccd"
      },
      "source": [
        "y_train_label"
      ],
      "execution_count": 49,
      "outputs": [
        {
          "output_type": "execute_result",
          "data": {
            "text/plain": [
              "array([45., 67., 55.])"
            ]
          },
          "metadata": {
            "tags": []
          },
          "execution_count": 49
        }
      ]
    },
    {
      "cell_type": "code",
      "metadata": {
        "id": "-yYjqm8Pky6T",
        "colab_type": "code",
        "colab": {
          "base_uri": "https://localhost:8080/",
          "height": 34
        },
        "outputId": "ef0e7724-80a0-47f9-e156-0821d6d4da19"
      },
      "source": [
        "y_test_label"
      ],
      "execution_count": 50,
      "outputs": [
        {
          "output_type": "execute_result",
          "data": {
            "text/plain": [
              "array([ 5.,  4., 13.])"
            ]
          },
          "metadata": {
            "tags": []
          },
          "execution_count": 50
        }
      ]
    },
    {
      "cell_type": "code",
      "metadata": {
        "id": "iSR_rVMCky6V",
        "colab_type": "code",
        "colab": {
          "base_uri": "https://localhost:8080/",
          "height": 84
        },
        "outputId": "5985fccc-0e7c-40f1-e68d-52ce38bcb22d"
      },
      "source": [
        "print(type(x_train))\n",
        "print(len(x_train))\n",
        "print(x_train.shape)\n",
        "print(type(x_train[0]))"
      ],
      "execution_count": 51,
      "outputs": [
        {
          "output_type": "stream",
          "text": [
            "<class 'numpy.ndarray'>\n",
            "167\n",
            "(167, 800, 800, 3)\n",
            "<class 'numpy.ndarray'>\n"
          ],
          "name": "stdout"
        }
      ]
    },
    {
      "cell_type": "markdown",
      "metadata": {
        "id": "jSgZDN_Gky6X",
        "colab_type": "text"
      },
      "source": [
        "## 六、建立與訓練深度學習Model"
      ]
    },
    {
      "cell_type": "code",
      "metadata": {
        "id": "7d3HiBH0ky6X",
        "colab_type": "code",
        "colab": {
          "base_uri": "https://localhost:8080/",
          "height": 958
        },
        "outputId": "ae26b9d9-a9b5-418f-a766-ccdf6ca14083"
      },
      "source": [
        "# 建立深度學習CNN Model\n",
        "model = tf.keras.Sequential()\n",
        "\n",
        "model.add(layers.Conv2D(64,(3,3),\n",
        "                 strides=(1,1),\n",
        "                 input_shape=(800, 800, 3),\n",
        "                 padding='same',\n",
        "                 activation='relu',\n",
        "                 ))\n",
        "model.add(layers.Conv2D(64,(3,3),\n",
        "                 strides=(1,1),\n",
        "                 padding='same',\n",
        "                 activation='relu',\n",
        "                 ))\n",
        "model.add(layers.BatchNormalization())\n",
        "model.add(layers.MaxPooling2D(pool_size=(2,2),strides=None))\n",
        "model.add(layers.Conv2D(128,(3,3),\n",
        "                 strides=(1,1),\n",
        "                 padding='same',\n",
        "                 activation='relu',\n",
        "                 ))\n",
        "model.add(layers.Conv2D(128,(3,3),\n",
        "                 strides=(1,1),\n",
        "                 padding='same',\n",
        "                 activation='relu',\n",
        "                 ))\n",
        "model.add(layers.MaxPooling2D(pool_size=(2,2),strides=None))\n",
        "\n",
        "model.add(layers.Conv2D(256,(3,3),\n",
        "                 strides=(1,1),\n",
        "                 padding='same',\n",
        "                 activation='relu',\n",
        "                 ))\n",
        "model.add(layers.Conv2D(256,(3,3),\n",
        "                 strides=(1,1),\n",
        "                 padding='same',\n",
        "                 activation='relu',\n",
        "                 ))\n",
        "model.add(layers.Conv2D(256,(3,3),\n",
        "                 strides=(1,1),\n",
        "                 padding='same',\n",
        "                 activation='relu',\n",
        "                 ))\n",
        "model.add(layers.MaxPooling2D(pool_size=(2,2),strides=None))\n",
        "\n",
        "model.add(layers.Conv2D(512,(3,3),\n",
        "                 strides=(1,1),\n",
        "                 padding='same',\n",
        "                 activation='relu',\n",
        "                 ))\n",
        "model.add(layers.Conv2D(512,(3,3),\n",
        "                 strides=(1,1),\n",
        "                 padding='same',\n",
        "                 activation='relu',\n",
        "                 ))\n",
        "model.add(layers.Conv2D(512,(3,3),\n",
        "                 strides=(1,1),\n",
        "                 padding='same',\n",
        "                 activation='relu',\n",
        "                 ))\n",
        "model.add(layers.MaxPooling2D(pool_size=(2,2),strides=None))\n",
        "\n",
        "model.add(layers.Conv2D(512,(3,3),\n",
        "                 strides=(1,1),\n",
        "                 padding='same',\n",
        "                 activation='relu',\n",
        "                 ))\n",
        "model.add(layers.Conv2D(512,(3,3),\n",
        "                 strides=(1,1),\n",
        "                 padding='same',\n",
        "                 activation='relu',\n",
        "                 ))\n",
        "model.add(layers.Conv2D(512,(3,3),\n",
        "                 strides=(1,1),\n",
        "                 padding='same',\n",
        "                 activation='relu',\n",
        "                 ))\n",
        "model.add(layers.MaxPooling2D(pool_size=(2,2),strides=None))\n",
        "\n",
        "model.add(layers.Flatten())\n",
        "\n",
        "model.add(layers.Dense(512,activation='relu'))\n",
        "\n",
        "model.add(layers.Dense(1024,activation='relu'))\n",
        "\n",
        "model.add(layers.Dropout(0.2))\n",
        "\n",
        "model.add(layers.Dense(3,activation='softmax'))\n",
        "\n",
        "model.summary()"
      ],
      "execution_count": 74,
      "outputs": [
        {
          "output_type": "stream",
          "text": [
            "Model: \"sequential_2\"\n",
            "_________________________________________________________________\n",
            "Layer (type)                 Output Shape              Param #   \n",
            "=================================================================\n",
            "conv2d_26 (Conv2D)           (None, 800, 800, 64)      1792      \n",
            "_________________________________________________________________\n",
            "conv2d_27 (Conv2D)           (None, 800, 800, 64)      36928     \n",
            "_________________________________________________________________\n",
            "batch_normalization_2 (Batch (None, 800, 800, 64)      256       \n",
            "_________________________________________________________________\n",
            "max_pooling2d_10 (MaxPooling (None, 400, 400, 64)      0         \n",
            "_________________________________________________________________\n",
            "conv2d_28 (Conv2D)           (None, 400, 400, 128)     73856     \n",
            "_________________________________________________________________\n",
            "conv2d_29 (Conv2D)           (None, 400, 400, 128)     147584    \n",
            "_________________________________________________________________\n",
            "max_pooling2d_11 (MaxPooling (None, 200, 200, 128)     0         \n",
            "_________________________________________________________________\n",
            "conv2d_30 (Conv2D)           (None, 200, 200, 256)     295168    \n",
            "_________________________________________________________________\n",
            "conv2d_31 (Conv2D)           (None, 200, 200, 256)     590080    \n",
            "_________________________________________________________________\n",
            "conv2d_32 (Conv2D)           (None, 200, 200, 256)     590080    \n",
            "_________________________________________________________________\n",
            "max_pooling2d_12 (MaxPooling (None, 100, 100, 256)     0         \n",
            "_________________________________________________________________\n",
            "conv2d_33 (Conv2D)           (None, 100, 100, 512)     1180160   \n",
            "_________________________________________________________________\n",
            "conv2d_34 (Conv2D)           (None, 100, 100, 512)     2359808   \n",
            "_________________________________________________________________\n",
            "conv2d_35 (Conv2D)           (None, 100, 100, 512)     2359808   \n",
            "_________________________________________________________________\n",
            "max_pooling2d_13 (MaxPooling (None, 50, 50, 512)       0         \n",
            "_________________________________________________________________\n",
            "conv2d_36 (Conv2D)           (None, 50, 50, 512)       2359808   \n",
            "_________________________________________________________________\n",
            "conv2d_37 (Conv2D)           (None, 50, 50, 512)       2359808   \n",
            "_________________________________________________________________\n",
            "conv2d_38 (Conv2D)           (None, 50, 50, 512)       2359808   \n",
            "_________________________________________________________________\n",
            "max_pooling2d_14 (MaxPooling (None, 25, 25, 512)       0         \n",
            "_________________________________________________________________\n",
            "flatten_2 (Flatten)          (None, 320000)            0         \n",
            "_________________________________________________________________\n",
            "dense_4 (Dense)              (None, 512)               163840512 \n",
            "_________________________________________________________________\n",
            "dense_5 (Dense)              (None, 1024)              525312    \n",
            "_________________________________________________________________\n",
            "dropout_1 (Dropout)          (None, 1024)              0         \n",
            "_________________________________________________________________\n",
            "dense_6 (Dense)              (None, 3)                 3075      \n",
            "=================================================================\n",
            "Total params: 179,083,843\n",
            "Trainable params: 179,083,715\n",
            "Non-trainable params: 128\n",
            "_________________________________________________________________\n"
          ],
          "name": "stdout"
        }
      ]
    },
    {
      "cell_type": "markdown",
      "metadata": {
        "id": "XXgN-ONmky6c",
        "colab_type": "text"
      },
      "source": [
        "history = model.compile(optimizer='adam',\n",
        "\n",
        "1.   List item\n",
        "2.   List item\n",
        "\n",
        "\n",
        "              loss=tf.keras.losses.SparseCategoricalCrossentropy(),\n",
        "              metrics=[tf.keras.metrics.SparseCategoricalAccuracy()])"
      ]
    },
    {
      "cell_type": "code",
      "metadata": {
        "id": "kbzQaqoVky6c",
        "colab_type": "code",
        "colab": {}
      },
      "source": [
        "adam = optimizers.adam(lr=0.1)\n",
        "model.compile(optimizer='adam',\n",
        "              loss=tf.keras.losses.CategoricalCrossentropy(),\n",
        "              metrics=['acc'])"
      ],
      "execution_count": 0,
      "outputs": []
    },
    {
      "cell_type": "code",
      "metadata": {
        "id": "aoKLYjDwky6e",
        "colab_type": "code",
        "colab": {}
      },
      "source": [
        "# zca_whitening 對輸入數據施加ZCA白化\n",
        "# rotation_range 數據提升時圖片隨機轉動的角度\n",
        "# width_shift_range 圖片寬度的某個比例，數據提升時圖片水平偏移的幅度\n",
        "# shear_range 剪切強度（逆時針方向的剪切變換角度）\n",
        "# zoom_range 隨機縮放的幅度\n",
        "# horizontal_flip 進行隨機水平翻轉\n",
        "# fill_mode ‘constant’，‘nearest’，‘reflect’或‘wrap’之一，當進行變換時超出邊界的點將根據本參數給定的方法進行處理\n",
        "\n",
        "datagen = ImageDataGenerator(\n",
        "    zca_whitening=False,\n",
        "    rotation_range=40,\n",
        "    width_shift_range=0.2,\n",
        "    height_shift_range=0.2,\n",
        "    shear_range=0.2,\n",
        "    zoom_range=0.2,\n",
        "    horizontal_flip=True,\n",
        "    fill_mode='nearest')"
      ],
      "execution_count": 0,
      "outputs": []
    },
    {
      "cell_type": "code",
      "metadata": {
        "id": "_5jKNPtDLnHy",
        "colab_type": "code",
        "colab": {
          "base_uri": "https://localhost:8080/",
          "height": 34
        },
        "outputId": "18f8d74d-d8de-4ecb-c39d-1acb06ac6fb1"
      },
      "source": [
        "# 導入圖像增強參數\n",
        "datagen.fit(x_train)\n",
        "x_train = x_train/255\n",
        "x_test = x_test/255\n",
        "print('rescale！done!')"
      ],
      "execution_count": 55,
      "outputs": [
        {
          "output_type": "stream",
          "text": [
            "rescale！done!\n"
          ],
          "name": "stdout"
        }
      ]
    },
    {
      "cell_type": "code",
      "metadata": {
        "id": "hYT65lw9ky6h",
        "colab_type": "code",
        "colab": {}
      },
      "source": [
        "# 設定超參數HyperParameters \n",
        "batch_size =  4\n",
        "epochs = 10"
      ],
      "execution_count": 0,
      "outputs": []
    },
    {
      "cell_type": "code",
      "metadata": {
        "id": "jWzNYwUUky6i",
        "colab_type": "code",
        "colab": {}
      },
      "source": [
        "# 檔名設定\n",
        "file_name = str(epochs)+'_'+str(batch_size)"
      ],
      "execution_count": 0,
      "outputs": []
    },
    {
      "cell_type": "code",
      "metadata": {
        "id": "f_hwYf7zky6k",
        "colab_type": "code",
        "colab": {}
      },
      "source": [
        "# 加入Tensorboard等回調函數\n",
        "TB = keras.callbacks.TensorBoard(log_dir='./log'+\"_\"+file_name, histogram_freq=1)"
      ],
      "execution_count": 0,
      "outputs": []
    },
    {
      "cell_type": "code",
      "metadata": {
        "id": "EK-cClUXG4E9",
        "colab_type": "code",
        "colab": {
          "base_uri": "https://localhost:8080/",
          "height": 353
        },
        "outputId": "732f85e4-e23e-4f06-f5c2-f52ce28c1e60"
      },
      "source": [
        "history = model.fit(\n",
        "    x = x_train , y = y_train,\n",
        "    batch_size = batch_size,\n",
        "    epochs = epochs,\n",
        "    validation_split = 0.2,\n",
        ")"
      ],
      "execution_count": 59,
      "outputs": [
        {
          "output_type": "stream",
          "text": [
            "Epoch 1/10\n",
            "34/34 [==============================] - 20s 574ms/step - loss: 62.9495 - acc: 0.3383 - val_loss: 1.0765 - val_acc: 0.5000\n",
            "Epoch 2/10\n",
            "34/34 [==============================] - 17s 497ms/step - loss: 1.1236 - acc: 0.3383 - val_loss: 1.0951 - val_acc: 0.2647\n",
            "Epoch 3/10\n",
            "34/34 [==============================] - 17s 497ms/step - loss: 1.0963 - acc: 0.3459 - val_loss: 1.0842 - val_acc: 0.5000\n",
            "Epoch 4/10\n",
            "34/34 [==============================] - 17s 498ms/step - loss: 1.0938 - acc: 0.3534 - val_loss: 1.0814 - val_acc: 0.5000\n",
            "Epoch 5/10\n",
            "34/34 [==============================] - 17s 498ms/step - loss: 1.0920 - acc: 0.3759 - val_loss: 1.0746 - val_acc: 0.5000\n",
            "Epoch 6/10\n",
            "34/34 [==============================] - 17s 497ms/step - loss: 1.0920 - acc: 0.3759 - val_loss: 1.0748 - val_acc: 0.5000\n",
            "Epoch 7/10\n",
            "34/34 [==============================] - 17s 497ms/step - loss: 1.0941 - acc: 0.3759 - val_loss: 1.0774 - val_acc: 0.5000\n",
            "Epoch 8/10\n",
            "34/34 [==============================] - 17s 498ms/step - loss: 1.0923 - acc: 0.3759 - val_loss: 1.0757 - val_acc: 0.5000\n",
            "Epoch 9/10\n",
            "34/34 [==============================] - 17s 497ms/step - loss: 1.0929 - acc: 0.3759 - val_loss: 1.0721 - val_acc: 0.5000\n",
            "Epoch 10/10\n",
            "34/34 [==============================] - 17s 498ms/step - loss: 1.0924 - acc: 0.3759 - val_loss: 1.0760 - val_acc: 0.5000\n"
          ],
          "name": "stdout"
        }
      ]
    },
    {
      "cell_type": "markdown",
      "metadata": {
        "id": "z8hITtykky6p",
        "colab_type": "text"
      },
      "source": [
        "## 柒、繪製Model學習成效"
      ]
    },
    {
      "cell_type": "code",
      "metadata": {
        "id": "C5zs_dGRky6p",
        "colab_type": "code",
        "colab": {}
      },
      "source": [
        "def plot_learning_curves(history):\n",
        "    pd.DataFrame(history.history).plot(figsize=(8,5))\n",
        "    plt.grid(True)\n",
        "    plt.gca().set_ylim(0,1)\n",
        "    plt.show()"
      ],
      "execution_count": 0,
      "outputs": []
    },
    {
      "cell_type": "code",
      "metadata": {
        "id": "PBKx5lEAky6r",
        "colab_type": "code",
        "colab": {
          "base_uri": "https://localhost:8080/",
          "height": 324
        },
        "outputId": "189dd9e7-21dd-48df-a4df-4b7d88154333"
      },
      "source": [
        "plot_learning_curves(history)"
      ],
      "execution_count": 61,
      "outputs": [
        {
          "output_type": "display_data",
          "data": {
            "image/png": "[encoded data removed]",
            "text/plain": [
              "<Figure size 576x360 with 1 Axes>"
            ]
          },
          "metadata": {
            "tags": [],
            "needs_background": "light"
          }
        }
      ]
    },
    {
      "cell_type": "markdown",
      "metadata": {
        "id": "9TJq37Baky6u",
        "colab_type": "text"
      },
      "source": [
        "## 捌、推測圖片"
      ]
    },
    {
      "cell_type": "code",
      "metadata": {
        "id": "ZVMo3WKEky6u",
        "colab_type": "code",
        "colab": {}
      },
      "source": [
        "test_mango_dir = os.path.join(\"AIMango/test_image\")\n",
        "test_mango_fnames = os.listdir(test_mango_dir)"
      ],
      "execution_count": 0,
      "outputs": []
    },
    {
      "cell_type": "code",
      "metadata": {
        "id": "Q3g9nZ8Nky6w",
        "colab_type": "code",
        "colab": {
          "base_uri": "https://localhost:8080/",
          "height": 34
        },
        "outputId": "1c27d67e-445a-4f23-c403-aaef7dd49a27"
      },
      "source": [
        "test_mango_fnames[0]"
      ],
      "execution_count": 63,
      "outputs": [
        {
          "output_type": "execute_result",
          "data": {
            "text/plain": [
              "'00009.jpg'"
            ]
          },
          "metadata": {
            "tags": []
          },
          "execution_count": 63
        }
      ]
    },
    {
      "cell_type": "code",
      "metadata": {
        "id": "klkQY_QCky6x",
        "colab_type": "code",
        "colab": {
          "base_uri": "https://localhost:8080/",
          "height": 298
        },
        "outputId": "bba7c92e-5653-4b0d-ee6e-b1610960f38a"
      },
      "source": [
        "img_files = [os.path.join(test_mango_dir,f) for f in test_mango_fnames]\n",
        "img_path = random.choice(img_files)\n",
        "\n",
        "# 讀入待測試圖像並秀出\n",
        "img = load_img(img_path, target_size=(800, 800))  # this is a PIL image\n",
        "plt.title(img_path)\n",
        "plt.grid(False)\n",
        "plt.imshow(img)"
      ],
      "execution_count": 64,
      "outputs": [
        {
          "output_type": "execute_result",
          "data": {
            "text/plain": [
              "<matplotlib.image.AxesImage at 0x7faca016d4e0>"
            ]
          },
          "metadata": {
            "tags": []
          },
          "execution_count": 64
        },
        {
          "output_type": "stream",
          "text": [
            "findfont: Font family ['sans-serif'] not found. Falling back to DejaVu Sans.\n"
          ],
          "name": "stderr"
        },
        {
          "output_type": "display_data",
          "data": {
            "image/png": "[encoded data removed]",
            "text/plain": [
              "<Figure size 432x288 with 1 Axes>"
            ]
          },
          "metadata": {
            "tags": [],
            "needs_background": "light"
          }
        }
      ]
    },
    {
      "cell_type": "code",
      "metadata": {
        "id": "k43oSCmQky60",
        "colab_type": "code",
        "colab": {}
      },
      "source": [
        "labels = ['等級A','等級B',\"等級C\"]"
      ],
      "execution_count": 0,
      "outputs": []
    },
    {
      "cell_type": "code",
      "metadata": {
        "id": "e3df1ChNky61",
        "colab_type": "code",
        "colab": {
          "base_uri": "https://localhost:8080/",
          "height": 67
        },
        "outputId": "876dcdf7-2529-4ae2-9818-5bc28601adaa"
      },
      "source": [
        "# 將圖像轉成模型可分析格式(800x800x3, float32)\n",
        "x = img_to_array(img)  # Numpy array with shape (800, 800, 3)\n",
        "x = x.reshape((1,) + x.shape)  # Numpy array with shape (1, 800, 800, 3)\n",
        "x /= 255 # Rescale by 1/255\n",
        "\n",
        "start = time.time() # 啟動計時器\n",
        "result = model.predict(x) # 對輸入圖像進行推論(預測)\n",
        "finish = time.time() # 結束計時器\n",
        "\n",
        "pred = result.argmax(axis=1)[0]\n",
        "pred_prob = result[0][pred]\n",
        "\n",
        "print(\"Result = %f\" %pred_prob) # 印出結果可能機率值(0.0 ~ 1.0)\n",
        "print(\"Test time :%f second.\" %(finish-start)) # 印出推論時間\n",
        "\n",
        "# 設定分類門檻值並印出推論結果\n",
        "print(\"有 {:.2f}% 機率為{}\".format(pred_prob * 100,labels[pred])) # 印出推論時間"
      ],
      "execution_count": 66,
      "outputs": [
        {
          "output_type": "stream",
          "text": [
            "Result = 0.367301\n",
            "Test time :0.382720 second.\n",
            "有 36.73% 機率為等級B\n"
          ],
          "name": "stdout"
        }
      ]
    },
    {
      "cell_type": "markdown",
      "metadata": {
        "id": "y8LFpb0aky63",
        "colab_type": "text"
      },
      "source": [
        "## 玖、測試集預測準確度"
      ]
    },
    {
      "cell_type": "code",
      "metadata": {
        "id": "UHO_AcgBky63",
        "colab_type": "code",
        "colab": {}
      },
      "source": [
        "# 測試集標籤預測\n",
        "y_pred = model.predict(x_test)"
      ],
      "execution_count": 0,
      "outputs": []
    },
    {
      "cell_type": "code",
      "metadata": {
        "id": "zz83__feky65",
        "colab_type": "code",
        "colab": {
          "base_uri": "https://localhost:8080/",
          "height": 34
        },
        "outputId": "978724eb-d0bc-4f19-f85f-efff48075875"
      },
      "source": [
        "# 整體準確度\n",
        "count = 0\n",
        "for i in range(len(y_pred)):\n",
        "    if(np.argmax(y_pred[i]) == np.argmax(y_test[i])): #argmax函数找到最大值的索引，即为其类别\n",
        "        count += 1\n",
        "score = count/len(y_pred)\n",
        "print('正确率为:%.2f%s' % (score*100,'%'))"
      ],
      "execution_count": 68,
      "outputs": [
        {
          "output_type": "stream",
          "text": [
            "正确率为:54.55%\n"
          ],
          "name": "stdout"
        }
      ]
    },
    {
      "cell_type": "code",
      "metadata": {
        "id": "zJ_qqeYbky67",
        "colab_type": "code",
        "colab": {
          "base_uri": "https://localhost:8080/",
          "height": 50
        },
        "outputId": "0dfd973c-7b72-442f-ac23-02b99b84f666"
      },
      "source": [
        "# 模型預測後的標籤\n",
        "predict_label = np.argmax(y_pred,axis=1)\n",
        "print(predict_label)\n",
        "print(len(predict_label))"
      ],
      "execution_count": 69,
      "outputs": [
        {
          "output_type": "stream",
          "text": [
            "[1 1 1 1 1 1 1 1 1 1 1 1 1 1 1 1 1 1 1 1 1 1]\n",
            "22\n"
          ],
          "name": "stdout"
        }
      ]
    },
    {
      "cell_type": "code",
      "metadata": {
        "id": "U7GBs7ttky68",
        "colab_type": "code",
        "colab": {
          "base_uri": "https://localhost:8080/",
          "height": 134
        },
        "outputId": "a96c3980-8d0c-4360-a225-489df9c5f012"
      },
      "source": [
        "# 模型原標籤\n",
        "true_label = y_label_org[84:]\n",
        "true_label = np.array(true_label)\n",
        "print(true_label)\n",
        "print(len(true_label))"
      ],
      "execution_count": 70,
      "outputs": [
        {
          "output_type": "stream",
          "text": [
            "['1' '1' '1' '0' '1' '2' '0' '1' '2' '2' '1' '2' '1' '1' '2' '2' '2' '1'\n",
            " '0' '1' '0' '0' '1' '2' '1' '1' '1' '2' '1' '1' '0' '0' '1' '1' '2' '1'\n",
            " '1' '2' '0' '1' '1' '1' '2' '0' '1' '0' '1' '2' '1' '2' '1' '1' '2' '0'\n",
            " '1' '1' '0' '1' '0' '0' '0' '2' '1' '2' '0' '1' '1' '2' '0' '1' '1' '1'\n",
            " '2' '2' '2' '1' '1' '1' '2' '1' '1' '0' '1' '1' '1' '1' '2' '1' '1' '1'\n",
            " '1' '0' '1' '2' '2' '0' '0' '1' '0' '2' '1' '1' '0' '0' '1']\n",
            "105\n"
          ],
          "name": "stdout"
        }
      ]
    },
    {
      "cell_type": "code",
      "metadata": {
        "id": "wEV8ymtXky6-",
        "colab_type": "code",
        "colab": {
          "base_uri": "https://localhost:8080/",
          "height": 121
        },
        "outputId": "7fdb93e4-fde0-4791-fbf2-fc96ae600ad9"
      },
      "source": [
        "# 模型預測後的標籤\n",
        "predictions = model.predict_classes(x_test)\n",
        "print(predictions)\n",
        "print(len(predictions))"
      ],
      "execution_count": 71,
      "outputs": [
        {
          "output_type": "stream",
          "text": [
            "WARNING:tensorflow:From <ipython-input-71-8d405dd16ca3>:2: Sequential.predict_classes (from tensorflow.python.keras.engine.sequential) is deprecated and will be removed after 2021-01-01.\n",
            "Instructions for updating:\n",
            "Please use instead:* `np.argmax(model.predict(x), axis=-1)`,   if your model does multi-class classification   (e.g. if it uses a `softmax` last-layer activation).* `(model.predict(x) > 0.5).astype(\"int32\")`,   if your model does binary classification   (e.g. if it uses a `sigmoid` last-layer activation).\n",
            "[1 1 1 1 1 1 1 1 1 1 1 1 1 1 1 1 1 1 1 1 1 1]\n",
            "22\n"
          ],
          "name": "stdout"
        }
      ]
    },
    {
      "cell_type": "code",
      "metadata": {
        "id": "iFtvEo3LRQNJ",
        "colab_type": "code",
        "colab": {}
      },
      "source": [
        ""
      ],
      "execution_count": 0,
      "outputs": []
    },
    {
      "cell_type": "code",
      "metadata": {
        "id": "8W-hJ2mcky7A",
        "colab_type": "code",
        "colab": {
          "base_uri": "https://localhost:8080/",
          "height": 303
        },
        "outputId": "df027b22-658b-419e-891e-83cb7498a6de"
      },
      "source": [
        "pd.crosstab(true_label,predict_label,rownames=['實際值'],colnames=['預測值'])"
      ],
      "execution_count": 72,
      "outputs": [
        {
          "output_type": "error",
          "ename": "ValueError",
          "evalue": "ignored",
          "traceback": [
            "\u001b[0;31m---------------------------------------------------------------------------\u001b[0m",
            "\u001b[0;31mValueError\u001b[0m                                Traceback (most recent call last)",
            "\u001b[0;32m<ipython-input-72-64b784cda275>\u001b[0m in \u001b[0;36m<module>\u001b[0;34m()\u001b[0m\n\u001b[0;32m----> 1\u001b[0;31m \u001b[0mpd\u001b[0m\u001b[0;34m.\u001b[0m\u001b[0mcrosstab\u001b[0m\u001b[0;34m(\u001b[0m\u001b[0mtrue_label\u001b[0m\u001b[0;34m,\u001b[0m\u001b[0mpredict_label\u001b[0m\u001b[0;34m,\u001b[0m\u001b[0mrownames\u001b[0m\u001b[0;34m=\u001b[0m\u001b[0;34m[\u001b[0m\u001b[0;34m'實際值'\u001b[0m\u001b[0;34m]\u001b[0m\u001b[0;34m,\u001b[0m\u001b[0mcolnames\u001b[0m\u001b[0;34m=\u001b[0m\u001b[0;34m[\u001b[0m\u001b[0;34m'預測值'\u001b[0m\u001b[0;34m]\u001b[0m\u001b[0;34m)\u001b[0m\u001b[0;34m\u001b[0m\u001b[0;34m\u001b[0m\u001b[0m\n\u001b[0m",
            "\u001b[0;32m/usr/local/lib/python3.6/dist-packages/pandas/core/reshape/pivot.py\u001b[0m in \u001b[0;36mcrosstab\u001b[0;34m(index, columns, values, rownames, colnames, aggfunc, margins, margins_name, dropna, normalize)\u001b[0m\n\u001b[1;32m    581\u001b[0m     \u001b[0;32mfrom\u001b[0m \u001b[0mpandas\u001b[0m \u001b[0;32mimport\u001b[0m \u001b[0mDataFrame\u001b[0m\u001b[0;34m\u001b[0m\u001b[0;34m\u001b[0m\u001b[0m\n\u001b[1;32m    582\u001b[0m \u001b[0;34m\u001b[0m\u001b[0m\n\u001b[0;32m--> 583\u001b[0;31m     \u001b[0mdf\u001b[0m \u001b[0;34m=\u001b[0m \u001b[0mDataFrame\u001b[0m\u001b[0;34m(\u001b[0m\u001b[0mdata\u001b[0m\u001b[0;34m,\u001b[0m \u001b[0mindex\u001b[0m\u001b[0;34m=\u001b[0m\u001b[0mcommon_idx\u001b[0m\u001b[0;34m)\u001b[0m\u001b[0;34m\u001b[0m\u001b[0;34m\u001b[0m\u001b[0m\n\u001b[0m\u001b[1;32m    584\u001b[0m     \u001b[0;32mif\u001b[0m \u001b[0mvalues\u001b[0m \u001b[0;32mis\u001b[0m \u001b[0;32mNone\u001b[0m\u001b[0;34m:\u001b[0m\u001b[0;34m\u001b[0m\u001b[0;34m\u001b[0m\u001b[0m\n\u001b[1;32m    585\u001b[0m         \u001b[0mdf\u001b[0m\u001b[0;34m[\u001b[0m\u001b[0;34m\"__dummy__\"\u001b[0m\u001b[0;34m]\u001b[0m \u001b[0;34m=\u001b[0m \u001b[0;36m0\u001b[0m\u001b[0;34m\u001b[0m\u001b[0;34m\u001b[0m\u001b[0m\n",
            "\u001b[0;32m/usr/local/lib/python3.6/dist-packages/pandas/core/frame.py\u001b[0m in \u001b[0;36m__init__\u001b[0;34m(self, data, index, columns, dtype, copy)\u001b[0m\n\u001b[1;32m    433\u001b[0m             )\n\u001b[1;32m    434\u001b[0m         \u001b[0;32melif\u001b[0m \u001b[0misinstance\u001b[0m\u001b[0;34m(\u001b[0m\u001b[0mdata\u001b[0m\u001b[0;34m,\u001b[0m \u001b[0mdict\u001b[0m\u001b[0;34m)\u001b[0m\u001b[0;34m:\u001b[0m\u001b[0;34m\u001b[0m\u001b[0;34m\u001b[0m\u001b[0m\n\u001b[0;32m--> 435\u001b[0;31m             \u001b[0mmgr\u001b[0m \u001b[0;34m=\u001b[0m \u001b[0minit_dict\u001b[0m\u001b[0;34m(\u001b[0m\u001b[0mdata\u001b[0m\u001b[0;34m,\u001b[0m \u001b[0mindex\u001b[0m\u001b[0;34m,\u001b[0m \u001b[0mcolumns\u001b[0m\u001b[0;34m,\u001b[0m \u001b[0mdtype\u001b[0m\u001b[0;34m=\u001b[0m\u001b[0mdtype\u001b[0m\u001b[0;34m)\u001b[0m\u001b[0;34m\u001b[0m\u001b[0;34m\u001b[0m\u001b[0m\n\u001b[0m\u001b[1;32m    436\u001b[0m         \u001b[0;32melif\u001b[0m \u001b[0misinstance\u001b[0m\u001b[0;34m(\u001b[0m\u001b[0mdata\u001b[0m\u001b[0;34m,\u001b[0m \u001b[0mma\u001b[0m\u001b[0;34m.\u001b[0m\u001b[0mMaskedArray\u001b[0m\u001b[0;34m)\u001b[0m\u001b[0;34m:\u001b[0m\u001b[0;34m\u001b[0m\u001b[0;34m\u001b[0m\u001b[0m\n\u001b[1;32m    437\u001b[0m             \u001b[0;32mimport\u001b[0m \u001b[0mnumpy\u001b[0m\u001b[0;34m.\u001b[0m\u001b[0mma\u001b[0m\u001b[0;34m.\u001b[0m\u001b[0mmrecords\u001b[0m \u001b[0;32mas\u001b[0m \u001b[0mmrecords\u001b[0m\u001b[0;34m\u001b[0m\u001b[0;34m\u001b[0m\u001b[0m\n",
            "\u001b[0;32m/usr/local/lib/python3.6/dist-packages/pandas/core/internals/construction.py\u001b[0m in \u001b[0;36minit_dict\u001b[0;34m(data, index, columns, dtype)\u001b[0m\n\u001b[1;32m    252\u001b[0m             \u001b[0marr\u001b[0m \u001b[0;32mif\u001b[0m \u001b[0;32mnot\u001b[0m \u001b[0mis_datetime64tz_dtype\u001b[0m\u001b[0;34m(\u001b[0m\u001b[0marr\u001b[0m\u001b[0;34m)\u001b[0m \u001b[0;32melse\u001b[0m \u001b[0marr\u001b[0m\u001b[0;34m.\u001b[0m\u001b[0mcopy\u001b[0m\u001b[0;34m(\u001b[0m\u001b[0;34m)\u001b[0m \u001b[0;32mfor\u001b[0m \u001b[0marr\u001b[0m \u001b[0;32min\u001b[0m \u001b[0marrays\u001b[0m\u001b[0;34m\u001b[0m\u001b[0;34m\u001b[0m\u001b[0m\n\u001b[1;32m    253\u001b[0m         ]\n\u001b[0;32m--> 254\u001b[0;31m     \u001b[0;32mreturn\u001b[0m \u001b[0marrays_to_mgr\u001b[0m\u001b[0;34m(\u001b[0m\u001b[0marrays\u001b[0m\u001b[0;34m,\u001b[0m \u001b[0mdata_names\u001b[0m\u001b[0;34m,\u001b[0m \u001b[0mindex\u001b[0m\u001b[0;34m,\u001b[0m \u001b[0mcolumns\u001b[0m\u001b[0;34m,\u001b[0m \u001b[0mdtype\u001b[0m\u001b[0;34m=\u001b[0m\u001b[0mdtype\u001b[0m\u001b[0;34m)\u001b[0m\u001b[0;34m\u001b[0m\u001b[0;34m\u001b[0m\u001b[0m\n\u001b[0m\u001b[1;32m    255\u001b[0m \u001b[0;34m\u001b[0m\u001b[0m\n\u001b[1;32m    256\u001b[0m \u001b[0;34m\u001b[0m\u001b[0m\n",
            "\u001b[0;32m/usr/local/lib/python3.6/dist-packages/pandas/core/internals/construction.py\u001b[0m in \u001b[0;36marrays_to_mgr\u001b[0;34m(arrays, arr_names, index, columns, dtype)\u001b[0m\n\u001b[1;32m     62\u001b[0m     \u001b[0;31m# figure out the index, if necessary\u001b[0m\u001b[0;34m\u001b[0m\u001b[0;34m\u001b[0m\u001b[0;34m\u001b[0m\u001b[0m\n\u001b[1;32m     63\u001b[0m     \u001b[0;32mif\u001b[0m \u001b[0mindex\u001b[0m \u001b[0;32mis\u001b[0m \u001b[0;32mNone\u001b[0m\u001b[0;34m:\u001b[0m\u001b[0;34m\u001b[0m\u001b[0;34m\u001b[0m\u001b[0m\n\u001b[0;32m---> 64\u001b[0;31m         \u001b[0mindex\u001b[0m \u001b[0;34m=\u001b[0m \u001b[0mextract_index\u001b[0m\u001b[0;34m(\u001b[0m\u001b[0marrays\u001b[0m\u001b[0;34m)\u001b[0m\u001b[0;34m\u001b[0m\u001b[0;34m\u001b[0m\u001b[0m\n\u001b[0m\u001b[1;32m     65\u001b[0m     \u001b[0;32melse\u001b[0m\u001b[0;34m:\u001b[0m\u001b[0;34m\u001b[0m\u001b[0;34m\u001b[0m\u001b[0m\n\u001b[1;32m     66\u001b[0m         \u001b[0mindex\u001b[0m \u001b[0;34m=\u001b[0m \u001b[0mensure_index\u001b[0m\u001b[0;34m(\u001b[0m\u001b[0mindex\u001b[0m\u001b[0;34m)\u001b[0m\u001b[0;34m\u001b[0m\u001b[0;34m\u001b[0m\u001b[0m\n",
            "\u001b[0;32m/usr/local/lib/python3.6/dist-packages/pandas/core/internals/construction.py\u001b[0m in \u001b[0;36mextract_index\u001b[0;34m(data)\u001b[0m\n\u001b[1;32m    363\u001b[0m             \u001b[0mlengths\u001b[0m \u001b[0;34m=\u001b[0m \u001b[0mlist\u001b[0m\u001b[0;34m(\u001b[0m\u001b[0mset\u001b[0m\u001b[0;34m(\u001b[0m\u001b[0mraw_lengths\u001b[0m\u001b[0;34m)\u001b[0m\u001b[0;34m)\u001b[0m\u001b[0;34m\u001b[0m\u001b[0;34m\u001b[0m\u001b[0m\n\u001b[1;32m    364\u001b[0m             \u001b[0;32mif\u001b[0m \u001b[0mlen\u001b[0m\u001b[0;34m(\u001b[0m\u001b[0mlengths\u001b[0m\u001b[0;34m)\u001b[0m \u001b[0;34m>\u001b[0m \u001b[0;36m1\u001b[0m\u001b[0;34m:\u001b[0m\u001b[0;34m\u001b[0m\u001b[0;34m\u001b[0m\u001b[0m\n\u001b[0;32m--> 365\u001b[0;31m                 \u001b[0;32mraise\u001b[0m \u001b[0mValueError\u001b[0m\u001b[0;34m(\u001b[0m\u001b[0;34m\"arrays must all be same length\"\u001b[0m\u001b[0;34m)\u001b[0m\u001b[0;34m\u001b[0m\u001b[0;34m\u001b[0m\u001b[0m\n\u001b[0m\u001b[1;32m    366\u001b[0m \u001b[0;34m\u001b[0m\u001b[0m\n\u001b[1;32m    367\u001b[0m             \u001b[0;32mif\u001b[0m \u001b[0mhave_dicts\u001b[0m\u001b[0;34m:\u001b[0m\u001b[0;34m\u001b[0m\u001b[0;34m\u001b[0m\u001b[0m\n",
            "\u001b[0;31mValueError\u001b[0m: arrays must all be same length"
          ]
        }
      ]
    },
    {
      "cell_type": "code",
      "metadata": {
        "id": "a8ddTbCIo1DZ",
        "colab_type": "code",
        "colab": {}
      },
      "source": [
        "# 儲存模型相關參數\n",
        "# model.save('h5/'+file_name+'.h5')"
      ],
      "execution_count": 0,
      "outputs": []
    }
  ]
}