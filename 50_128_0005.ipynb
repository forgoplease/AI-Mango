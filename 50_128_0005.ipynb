{
 "cells": [
  {
   "cell_type": "code",
   "execution_count": 201,
   "metadata": {},
   "outputs": [],
   "source": [
    "# 設定超參數HyperParameters \n",
    "batch_size =  128\n",
    "epochs = 30\n",
    "image_size = 128\n",
    "lr=0.005"
   ]
  },
  {
   "cell_type": "markdown",
   "metadata": {},
   "source": [
    "## 一、載入相關套件"
   ]
  },
  {
   "cell_type": "code",
   "execution_count": 202,
   "metadata": {},
   "outputs": [],
   "source": [
    "import os\n",
    "import cv2\n",
    "import csv\n",
    "import random\n",
    "import time\n",
    "import numpy as np\n",
    "import pandas as pd\n",
    "import matplotlib.image as mpimg # mpimg 用於讀取圖片\n",
    "import matplotlib.pyplot as plt # plt 用於顯示圖片\n",
    "import seaborn as sns"
   ]
  },
  {
   "cell_type": "code",
   "execution_count": 203,
   "metadata": {},
   "outputs": [],
   "source": [
    "import tensorflow as tf\n",
    "\n",
    "from tensorflow.keras.applications import ResNet50V2\n",
    "from tensorflow.keras.preprocessing import image\n",
    "from tensorflow.keras.applications.resnet_v2 import preprocess_input\n",
    "from tensorflow.keras import Model\n",
    "from tensorflow.keras.preprocessing.image import ImageDataGenerator, array_to_img, img_to_array, load_img\n",
    "from tensorflow.keras.utils import to_categorical\n",
    "from tensorflow.keras import utils as np_utils\n",
    "from tensorflow import keras\n",
    "from tensorflow.keras import optimizers\n",
    "from tensorflow.keras.layers import Input, Dropout, Flatten, Convolution2D, MaxPooling2D, ZeroPadding2D, Dense, Activation, Conv2DTranspose"
   ]
  },
  {
   "cell_type": "code",
   "execution_count": 204,
   "metadata": {},
   "outputs": [
    {
     "name": "stdout",
     "output_type": "stream",
     "text": [
      "1 Physical GPUs, 1 Logical GPUs\n"
     ]
    }
   ],
   "source": [
    "gpus = tf.config.experimental.list_physical_devices('GPU')\n",
    "if gpus:\n",
    "    try:\n",
    "        # Currently, memory growth needs to be the same across GPUs\n",
    "        for gpu in gpus:\n",
    "            tf.config.experimental.set_memory_growth(gpu, True)\n",
    "        tf.config.experimental.set_visible_devices(gpus[0], 'GPU')\n",
    "        logical_gpus = tf.config.experimental.list_logical_devices('GPU')\n",
    "        print(len(gpus), \"Physical GPUs,\", len(logical_gpus), \"Logical GPUs\")\n",
    "    except RuntimeError as e:\n",
    "        # Memory growth must be set before GPUs have been initialized\n",
    "        print(e)"
   ]
  },
  {
   "cell_type": "code",
   "execution_count": 205,
   "metadata": {},
   "outputs": [
    {
     "name": "stdout",
     "output_type": "stream",
     "text": [
      "Start Time 2020-05-30 15:56:36.945864+08:00\n"
     ]
    }
   ],
   "source": [
    "# Print Start time\n",
    "from datetime import datetime, timezone\n",
    "import pytz\n",
    "\n",
    "tpe = pytz.timezone('Asia/Taipei')\n",
    "utc_start = datetime.now()\n",
    "print(\"Start Time\", tpe.fromutc(utc_start))"
   ]
  },
  {
   "cell_type": "markdown",
   "metadata": {},
   "source": [
    "## 製作標籤&資料集"
   ]
  },
  {
   "cell_type": "code",
   "execution_count": 206,
   "metadata": {},
   "outputs": [],
   "source": [
    "csvfile = open('train.csv')\n",
    "reader = csv.reader(csvfile)"
   ]
  },
  {
   "cell_type": "code",
   "execution_count": 207,
   "metadata": {},
   "outputs": [],
   "source": [
    "# 讀取csv標籤\n",
    "labels = []\n",
    "for line in reader:\n",
    "    tmp = [line[0],line[1]]\n",
    "    # print tmp\n",
    "    labels.append(tmp)\n",
    "csvfile.close() "
   ]
  },
  {
   "cell_type": "code",
   "execution_count": 208,
   "metadata": {},
   "outputs": [
    {
     "name": "stdout",
     "output_type": "stream",
     "text": [
      "芒果圖片數量:  5600\n"
     ]
    }
   ],
   "source": [
    "# remove the first row\n",
    "labels = labels[1:]\n",
    "print(\"芒果圖片數量: \",len(labels))"
   ]
  },
  {
   "cell_type": "code",
   "execution_count": 209,
   "metadata": {},
   "outputs": [],
   "source": [
    "# 轉換圖片的標籤\n",
    "for i in range(len(labels)):\n",
    "    labels[i][1] = labels[i][1].replace(\"A\",\"0\")\n",
    "    labels[i][1] = labels[i][1].replace(\"B\",\"1\")\n",
    "    labels[i][1] = labels[i][1].replace(\"C\",\"2\")"
   ]
  },
  {
   "cell_type": "code",
   "execution_count": 210,
   "metadata": {},
   "outputs": [],
   "source": [
    "# 隨機讀取圖片\n",
    "a = 0\n",
    "items= []\n",
    "import random\n",
    "for a in range(0,len(labels)):\n",
    "    items.append(a)"
   ]
  },
  {
   "cell_type": "code",
   "execution_count": 211,
   "metadata": {},
   "outputs": [],
   "source": [
    "# 製作訓練用資料集及標籤\n",
    "# Wait for a while\n",
    "X = []\n",
    "y = []\n",
    "\n",
    "for i in random.sample(items, round(len(items))):\n",
    "    img = cv2.imread(\"C1-P1_Train/\" + labels[i][0] )\n",
    "    res = cv2.resize(img,(image_size,image_size),interpolation=cv2.INTER_LINEAR)\n",
    "    res = img_to_array(res)\n",
    "    X.append(res)    \n",
    "    y.append(labels[i][1])"
   ]
  },
  {
   "cell_type": "code",
   "execution_count": 212,
   "metadata": {},
   "outputs": [],
   "source": [
    "# 轉換至array的格式\n",
    "X = np.array(X)\n",
    "y = np.array(y)"
   ]
  },
  {
   "cell_type": "code",
   "execution_count": 213,
   "metadata": {},
   "outputs": [],
   "source": [
    "# 轉換至float的格式\n",
    "for i in range(len(X)):\n",
    "    X[i] = X[i].astype('float32')"
   ]
  },
  {
   "cell_type": "code",
   "execution_count": 214,
   "metadata": {},
   "outputs": [],
   "source": [
    "# 標籤進行one-hotencoding\n",
    "y = np_utils.to_categorical(y)"
   ]
  },
  {
   "cell_type": "code",
   "execution_count": 215,
   "metadata": {},
   "outputs": [],
   "source": [
    "# 分配訓練集及測試集比例\n",
    "x_train = X\n",
    "y_train = y"
   ]
  },
  {
   "cell_type": "markdown",
   "metadata": {},
   "source": [
    "## 建立Model"
   ]
  },
  {
   "cell_type": "code",
   "execution_count": 216,
   "metadata": {},
   "outputs": [],
   "source": [
    "model_resnet = ResNet50V2(weights='imagenet', include_top=False)\n",
    "\n",
    "input = Input( shape=(image_size,image_size,3),name = 'image_input' )\n",
    "output_conv = model_resnet(input)"
   ]
  },
  {
   "cell_type": "code",
   "execution_count": 217,
   "metadata": {},
   "outputs": [],
   "source": [
    "## 由於該問題是分 3 類，需要在最後修改 Dense(3)，softmax 代表 output 是機率  \n",
    "#Add the fully-connected layers \n",
    "p = Flatten()(output_conv)\n",
    "p = Dense(256,activation = 'relu')(p)\n",
    "p = Dropout(0.2)(p)\n",
    "p = Dense(3, activation='softmax', name='predictions')(p)\n",
    "\n",
    "model = Model(inputs=input, outputs=p)"
   ]
  },
  {
   "cell_type": "code",
   "execution_count": 218,
   "metadata": {},
   "outputs": [],
   "source": [
    "adam = optimizers.Adam(lr=lr)\n",
    "model.compile(optimizer='adam',\n",
    "              loss=tf.keras.losses.CategoricalCrossentropy(),\n",
    "              metrics=['acc'])"
   ]
  },
  {
   "cell_type": "code",
   "execution_count": 219,
   "metadata": {},
   "outputs": [],
   "source": [
    "# model.summary()"
   ]
  },
  {
   "cell_type": "markdown",
   "metadata": {},
   "source": [
    "## 訓練"
   ]
  },
  {
   "cell_type": "code",
   "execution_count": 220,
   "metadata": {},
   "outputs": [],
   "source": [
    "# zca_whitening 對輸入數據施加ZCA白化\n",
    "# rotation_range 數據提升時圖片隨機轉動的角度\n",
    "# width_shift_range 圖片寬度的某個比例，數據提升時圖片水平偏移的幅度\n",
    "# shear_range 剪切強度（逆時針方向的剪切變換角度）\n",
    "# zoom_range 隨機縮放的幅度\n",
    "# horizontal_flip 進行隨機水平翻轉\n",
    "# fill_mode ‘constant’，‘nearest’，‘reflect’或‘wrap’之一，當進行變換時超出邊界的點將根據本參數給定的方法進行處理\n",
    "\n",
    "datagen = ImageDataGenerator(\n",
    "    zca_whitening=False,\n",
    "    rotation_range=40,\n",
    "    width_shift_range=0.2,\n",
    "    height_shift_range=0.2,\n",
    "    shear_range=0.2,\n",
    "    zoom_range=0.2,\n",
    "    horizontal_flip=True,\n",
    "    vertical_flip=True,\n",
    "    fill_mode='nearest')"
   ]
  },
  {
   "cell_type": "code",
   "execution_count": 221,
   "metadata": {},
   "outputs": [
    {
     "name": "stdout",
     "output_type": "stream",
     "text": [
      "rescale！done!\n"
     ]
    }
   ],
   "source": [
    "# 導入圖像增強參數\n",
    "datagen.fit(x_train)\n",
    "# x_train = x_train/255\n",
    "print('rescale！done!')"
   ]
  },
  {
   "cell_type": "code",
   "execution_count": 222,
   "metadata": {},
   "outputs": [],
   "source": [
    "# 檔名設定\n",
    "file_name = str(epochs)+'_'+str(batch_size)"
   ]
  },
  {
   "cell_type": "code",
   "execution_count": 223,
   "metadata": {},
   "outputs": [],
   "source": [
    "# 加入EarlyStopping以及Tensorboard等回調函數\n",
    "CB = tf.keras.callbacks.EarlyStopping(monitor='val_loss', patience=10)\n",
    "TB = keras.callbacks.TensorBoard(log_dir='./log'+\"_\"+file_name, histogram_freq=1)"
   ]
  },
  {
   "cell_type": "raw",
   "metadata": {},
   "source": [
    "### Start Training\n",
    "history = model.fit(\n",
    "    x = x_train , y = y_train,\n",
    "    batch_size = batch_size,\n",
    "    epochs = epochs,\n",
    "    validation_split = 0.1\n",
    ")"
   ]
  },
  {
   "cell_type": "code",
   "execution_count": 224,
   "metadata": {
    "scrolled": true
   },
   "outputs": [
    {
     "name": "stdout",
     "output_type": "stream",
     "text": [
      "WARNING:tensorflow:sample_weight modes were coerced from\n",
      "  ...\n",
      "    to  \n",
      "  ['...']\n",
      "Train for 44 steps\n",
      "Epoch 1/30\n",
      "44/44 [==============================] - 26s 595ms/step - loss: 1.4112 - acc: 0.5568\n",
      "Epoch 2/30\n",
      "44/44 [==============================] - 21s 480ms/step - loss: 0.6890 - acc: 0.6993\n",
      "Epoch 3/30\n",
      "44/44 [==============================] - 21s 476ms/step - loss: 0.6446 - acc: 0.7180\n",
      "Epoch 4/30\n",
      "44/44 [==============================] - 21s 475ms/step - loss: 0.6097 - acc: 0.7309\n",
      "Epoch 5/30\n",
      "44/44 [==============================] - 21s 479ms/step - loss: 0.6015 - acc: 0.7377\n",
      "Epoch 6/30\n",
      "44/44 [==============================] - 21s 473ms/step - loss: 0.5743 - acc: 0.7516\n",
      "Epoch 7/30\n",
      "44/44 [==============================] - 21s 485ms/step - loss: 0.5652 - acc: 0.7473\n",
      "Epoch 8/30\n",
      "44/44 [==============================] - 21s 484ms/step - loss: 0.5547 - acc: 0.7502\n",
      "Epoch 9/30\n",
      "44/44 [==============================] - 21s 476ms/step - loss: 0.5559 - acc: 0.7568\n",
      "Epoch 10/30\n",
      "44/44 [==============================] - 21s 481ms/step - loss: 0.5479 - acc: 0.7573\n",
      "Epoch 11/30\n",
      "44/44 [==============================] - 21s 476ms/step - loss: 0.5410 - acc: 0.7636\n",
      "Epoch 12/30\n",
      "44/44 [==============================] - 21s 478ms/step - loss: 0.5244 - acc: 0.7689\n",
      "Epoch 13/30\n",
      "44/44 [==============================] - 21s 473ms/step - loss: 0.5461 - acc: 0.7582\n",
      "Epoch 14/30\n",
      "44/44 [==============================] - 21s 478ms/step - loss: 0.5448 - acc: 0.7548\n",
      "Epoch 15/30\n",
      "44/44 [==============================] - 21s 473ms/step - loss: 0.5266 - acc: 0.7720\n",
      "Epoch 16/30\n",
      "44/44 [==============================] - 21s 478ms/step - loss: 0.5206 - acc: 0.7711\n",
      "Epoch 17/30\n",
      "44/44 [==============================] - 21s 481ms/step - loss: 0.5120 - acc: 0.7711\n",
      "Epoch 18/30\n",
      "44/44 [==============================] - 21s 474ms/step - loss: 0.5074 - acc: 0.7791\n",
      "Epoch 19/30\n",
      "44/44 [==============================] - 21s 482ms/step - loss: 0.6191 - acc: 0.7523\n",
      "Epoch 20/30\n",
      "44/44 [==============================] - 21s 477ms/step - loss: 0.5727 - acc: 0.7487\n",
      "Epoch 21/30\n",
      "44/44 [==============================] - 21s 476ms/step - loss: 0.5472 - acc: 0.7636\n",
      "Epoch 22/30\n",
      "44/44 [==============================] - 21s 476ms/step - loss: 0.5302 - acc: 0.7675\n",
      "Epoch 23/30\n",
      "44/44 [==============================] - 21s 474ms/step - loss: 0.5076 - acc: 0.7770\n",
      "Epoch 24/30\n",
      "44/44 [==============================] - 21s 475ms/step - loss: 0.5051 - acc: 0.7746\n",
      "Epoch 25/30\n",
      "44/44 [==============================] - 21s 468ms/step - loss: 0.5195 - acc: 0.7621\n",
      "Epoch 26/30\n",
      "44/44 [==============================] - 21s 476ms/step - loss: 0.5257 - acc: 0.7689\n",
      "Epoch 27/30\n",
      "44/44 [==============================] - 21s 476ms/step - loss: 0.5059 - acc: 0.7798\n",
      "Epoch 28/30\n",
      "44/44 [==============================] - 21s 475ms/step - loss: 0.4990 - acc: 0.7823\n",
      "Epoch 29/30\n",
      "44/44 [==============================] - 21s 472ms/step - loss: 0.4834 - acc: 0.7864\n",
      "Epoch 30/30\n",
      "44/44 [==============================] - 21s 469ms/step - loss: 0.4835 - acc: 0.7868\n"
     ]
    }
   ],
   "source": [
    "### Start Training\n",
    "history = model.fit(\n",
    "    datagen.flow(x_train , y_train, batch_size=batch_size),\n",
    "    epochs = epochs\n",
    ")"
   ]
  },
  {
   "cell_type": "code",
   "execution_count": 225,
   "metadata": {},
   "outputs": [
    {
     "name": "stdout",
     "output_type": "stream",
     "text": [
      "Finish Training Time 2020-05-30 16:08:48.925963+08:00\n"
     ]
    },
    {
     "data": {
      "text/plain": [
       "(12, 11)"
      ]
     },
     "execution_count": 225,
     "metadata": {},
     "output_type": "execute_result"
    }
   ],
   "source": [
    "# Print Finish Training time\n",
    "tpe = pytz.timezone('Asia/Taipei')\n",
    "utc_finish = datetime.now()\n",
    "print(\"Finish Training Time\", tpe.fromutc(utc_finish))\n",
    "\n",
    "difference = utc_finish-utc_start\n",
    "seconds_in_day = 24 * 60 * 60\n",
    "divmod(difference.days * seconds_in_day + difference.seconds, 60)"
   ]
  },
  {
   "cell_type": "markdown",
   "metadata": {},
   "source": [
    "## 繪製Model學習成效"
   ]
  },
  {
   "cell_type": "code",
   "execution_count": 226,
   "metadata": {},
   "outputs": [
    {
     "data": {
      "image/png": "[encoded data removed]",
      "text/plain": [
       "<Figure size 576x360 with 1 Axes>"
      ]
     },
     "metadata": {
      "needs_background": "light"
     },
     "output_type": "display_data"
    }
   ],
   "source": [
    "def plot_learning_curves(history):\n",
    "    pd.DataFrame(history.history).plot(figsize=(8,5))\n",
    "    plt.grid(True)\n",
    "    plt.gca().set_ylim(0,2)\n",
    "    plt.show()\n",
    "    \n",
    "plot_learning_curves(history)"
   ]
  },
  {
   "cell_type": "markdown",
   "metadata": {},
   "source": [
    "## 測試集預測準確度"
   ]
  },
  {
   "cell_type": "code",
   "execution_count": 227,
   "metadata": {},
   "outputs": [],
   "source": [
    "csvfile_test = open('dev.csv')\n",
    "reader_test = csv.reader(csvfile_test)"
   ]
  },
  {
   "cell_type": "code",
   "execution_count": 228,
   "metadata": {},
   "outputs": [],
   "source": [
    "# 讀取csv標籤\n",
    "labels = []\n",
    "for line in reader_test:\n",
    "    tmp = [line[0],line[1]]\n",
    "    # print tmp\n",
    "    labels.append(tmp)\n",
    "csvfile_test.close() "
   ]
  },
  {
   "cell_type": "code",
   "execution_count": 229,
   "metadata": {},
   "outputs": [
    {
     "name": "stdout",
     "output_type": "stream",
     "text": [
      "芒果圖片數量:  800\n"
     ]
    }
   ],
   "source": [
    "labels = labels[1:]  # remove the first row\n",
    "print(\"芒果圖片數量: \",len(labels))"
   ]
  },
  {
   "cell_type": "code",
   "execution_count": 230,
   "metadata": {},
   "outputs": [],
   "source": [
    "# 轉換圖片的標籤\n",
    "for i in range(len(labels)):\n",
    "    labels[i][1] = labels[i][1].replace(\"A\",\"0\")\n",
    "    labels[i][1] = labels[i][1].replace(\"B\",\"1\")\n",
    "    labels[i][1] = labels[i][1].replace(\"C\",\"2\")"
   ]
  },
  {
   "cell_type": "code",
   "execution_count": 231,
   "metadata": {},
   "outputs": [],
   "source": [
    "x_test = []\n",
    "y_test = []\n",
    "\n",
    "for i in range(len(labels)):\n",
    "    img = cv2.imread(\"C1-P1_Dev/\" + labels[i][0] )\n",
    "    res = cv2.resize(img,(image_size,image_size),interpolation=cv2.INTER_LINEAR)\n",
    "    res = img_to_array(res)\n",
    "    x_test.append(res)    \n",
    "    y_test.append(labels[i][1])"
   ]
  },
  {
   "cell_type": "code",
   "execution_count": 232,
   "metadata": {},
   "outputs": [],
   "source": [
    "y_test_org = y_test\n",
    "\n",
    "# 轉換至array的格式\n",
    "x_test = np.array(x_test)\n",
    "y_test = np.array(y_test)"
   ]
  },
  {
   "cell_type": "code",
   "execution_count": 233,
   "metadata": {},
   "outputs": [],
   "source": [
    "# 轉換至float的格式\n",
    "for i in range(len(x_test)):\n",
    "    x_test[i] = x_test[i].astype('float32')\n",
    "# x_test = x_test/255"
   ]
  },
  {
   "cell_type": "code",
   "execution_count": 234,
   "metadata": {},
   "outputs": [],
   "source": [
    "# 標籤進行one-hotencoding\n",
    "y_test = np_utils.to_categorical(y_test)"
   ]
  },
  {
   "cell_type": "code",
   "execution_count": 235,
   "metadata": {},
   "outputs": [],
   "source": [
    "# 測試集標籤預測\n",
    "y_pred = model.predict(x_test)"
   ]
  },
  {
   "cell_type": "code",
   "execution_count": 236,
   "metadata": {},
   "outputs": [
    {
     "name": "stdout",
     "output_type": "stream",
     "text": [
      "[1 1 1 1 2 1 2 0 1 1 1 1 2 1 2 2 1 1 0 1 1 1 2 0 1 0 2 2 1 2 1 1 2 2 0 0 0\n",
      " 0 1 1 1 2 0 1 2 2 1 0 2 0 1 1 1 2 2 0 2 1 2 0 1 1 2 1 1 2 2 1 2 1 2 1 2 2\n",
      " 2 1 1 0 2 1 1 2 1 1 2 2 2 1 1 1 2 1 1 2 2 2 2 1 2 2 2 2 2 2 1 1 1 1 1 2 1\n",
      " 0 2 0 0 2 2 2 1 1 1 1 2 1 2 1 1 2 2 1 1 0 1 2 0 2 1 1 0 2 1 2 2 1 1 1 2 1\n",
      " 1 1 1 0 1 2 2 1 1 1 2 1 2 1 0 1 2 2 0 2 1 2 1 2 2 2 2 2 1 1 1 1 2 2 1 2 1\n",
      " 2 0 1 2 2 2 2 1 1 2 1 1 2 2 1 2 1 1 1 1 2 1 1 2 1 2 1 0 2 1 2 1 2 1 2 1 1\n",
      " 1 1 1 1 1 1 1 1 1 1 2 2 0 1 2 1 2 1 2 2 2 0 1 0 2 2 1 2 1 1 2 2 2 1 1 1 2\n",
      " 2 2 1 1 0 2 1 2 1 1 2 2 1 2 0 1 2 2 1 2 1 1 1 1 1 1 0 2 2 2 2 2 1 2 2 1 2\n",
      " 2 2 1 2 2 1 2 0 2 2 2 2 1 2 2 1 2 1 1 2 1 1 1 1 1 1 2 2 2 1 1 2 1 2 2 1 2\n",
      " 1 2 1 2 2 1 2 2 2 1 2 0 1 0 0 1 1 2 1 2 1 1 1 1 2 1 1 1 1 1 1 2 1 1 1 2 2\n",
      " 2 2 1 2 1 1 1 2 1 2 1 1 1 1 1 2 1 2 0 2 2 2 1 2 1 0 2 2 1 1 0 1 2 2 0 2 1\n",
      " 1 2 1 1 2 1 1 1 1 1 2 2 1 2 1 0 2 1 2 1 2 1 2 2 0 0 1 1 2 2 2 2 1 1 1 2 1\n",
      " 1 0 1 1 1 2 2 2 2 2 1 0 1 1 1 2 2 1 2 2 0 1 1 0 1 1 1 2 2 2 0 2 2 1 1 2 1\n",
      " 1 1 1 2 1 1 1 2 2 2 2 2 1 0 1 1 1 1 1 1 0 2 2 1 1 1 1 1 1 2 2 1 0 1 2 2 1\n",
      " 1 1 1 1 2 2 2 1 1 2 2 2 2 2 1 2 2 1 1 1 2 0 1 1 2 1 0 2 1 1 0 2 1 0 2 0 2\n",
      " 2 1 1 1 1 2 1 1 1 1 2 1 0 2 1 1 1 0 1 2 1 1 1 1 1 2 1 2 1 1 1 1 2 2 2 1 0\n",
      " 1 2 1 1 2 2 1 2 2 2 1 2 1 1 1 2 2 1 2 2 1 2 2 1 2 1 1 2 1 1 0 2 1 1 0 0 0\n",
      " 1 2 1 1 0 1 2 2 1 1 0 1 1 1 1 1 1 1 1 1 2 2 2 2 2 1 1 2 2 1 1 1 1 2 1 2 2\n",
      " 1 1 2 1 2 2 2 1 0 2 2 1 1 1 2 2 2 1 1 0 1 1 2 2 1 2 1 1 2 2 1 2 2 0 0 1 1\n",
      " 0 1 2 1 1 1 2 1 1 1 1 1 0 2 1 2 0 1 2 2 2 2 1 2 1 1 2 2 1 1 2 2 2 2 2 2 1\n",
      " 2 2 2 2 2 1 1 1 1 1 1 2 1 1 1 1 2 1 1 2 0 2 1 1 2 1 1 1 1 2 1 1 2 2 1 1 1\n",
      " 2 2 2 1 1 2 2 1 1 2 2 1 2 2 2 1 2 0 1 1 2 1 2]\n"
     ]
    }
   ],
   "source": [
    "# 模型預測後的標籤\n",
    "predict_label = np.argmax(y_pred,axis=1)\n",
    "print(predict_label)\n",
    "# print(len(predict_label))"
   ]
  },
  {
   "cell_type": "code",
   "execution_count": 237,
   "metadata": {},
   "outputs": [
    {
     "name": "stdout",
     "output_type": "stream",
     "text": [
      "['1' '0' '1' '1' '2' '1' '2' '0' '1' '0' '0' '1' '2' '1' '2' '1' '1' '0'\n",
      " '0' '1' '0' '0' '2' '0' '1' '0' '2' '2' '1' '1' '1' '0' '2' '2' '0' '0'\n",
      " '0' '0' '0' '0' '1' '2' '0' '2' '2' '2' '1' '0' '2' '0' '1' '1' '1' '2'\n",
      " '2' '0' '1' '0' '2' '0' '1' '1' '2' '0' '1' '2' '2' '0' '2' '1' '2' '1'\n",
      " '1' '2' '2' '2' '1' '0' '2' '0' '0' '2' '1' '1' '2' '2' '2' '2' '0' '1'\n",
      " '2' '2' '1' '2' '2' '2' '1' '0' '2' '2' '2' '1' '1' '2' '1' '1' '1' '1'\n",
      " '1' '2' '2' '0' '1' '0' '0' '2' '2' '0' '2' '0' '1' '0' '2' '1' '2' '1'\n",
      " '0' '1' '2' '1' '0' '0' '0' '1' '0' '2' '1' '1' '0' '2' '0' '1' '2' '0'\n",
      " '0' '0' '2' '1' '1' '1' '1' '1' '1' '1' '1' '1' '1' '0' '2' '1' '2' '1'\n",
      " '0' '1' '2' '2' '1' '2' '0' '2' '1' '2' '2' '2' '2' '1' '0' '0' '0' '1'\n",
      " '2' '2' '0' '2' '1' '2' '0' '0' '2' '1' '2' '2' '1' '1' '2' '1' '0' '2'\n",
      " '1' '0' '2' '2' '1' '0' '1' '2' '0' '1' '2' '2' '2' '1' '1' '2' '0' '2'\n",
      " '1' '2' '1' '1' '0' '1' '1' '1' '1' '1' '0' '0' '1' '1' '0' '2' '1' '1'\n",
      " '0' '1' '2' '0' '2' '0' '1' '2' '2' '0' '1' '0' '2' '2' '2' '1' '0' '1'\n",
      " '2' '2' '2' '1' '1' '1' '2' '2' '2' '1' '1' '0' '2' '1' '2' '0' '1' '2'\n",
      " '2' '1' '1' '1' '1' '2' '2' '0' '2' '0' '1' '0' '0' '1' '1' '1' '1' '2'\n",
      " '1' '2' '2' '0' '2' '2' '1' '1' '0' '1' '1' '2' '2' '0' '2' '0' '2' '2'\n",
      " '1' '2' '1' '2' '2' '0' '2' '1' '0' '2' '0' '1' '1' '0' '0' '1' '1' '2'\n",
      " '2' '1' '1' '1' '0' '2' '1' '1' '2' '0' '2' '1' '1' '2' '1' '1' '1' '2'\n",
      " '0' '2' '0' '0' '0' '0' '0' '1' '2' '1' '2' '0' '1' '0' '1' '2' '1' '0'\n",
      " '0' '1' '0' '0' '2' '1' '1' '1' '1' '1' '2' '2' '1' '2' '0' '2' '1' '2'\n",
      " '0' '2' '0' '1' '0' '1' '1' '2' '1' '1' '0' '2' '2' '2' '1' '2' '1' '0'\n",
      " '1' '1' '1' '1' '0' '0' '2' '1' '0' '2' '1' '1' '2' '0' '0' '2' '1' '0'\n",
      " '1' '1' '1' '2' '2' '1' '1' '0' '0' '2' '0' '2' '1' '1' '1' '2' '2' '0'\n",
      " '2' '0' '1' '2' '2' '1' '1' '0' '1' '0' '1' '0' '0' '1' '0' '1' '1' '1'\n",
      " '2' '2' '2' '2' '0' '0' '0' '1' '0' '2' '2' '1' '2' '2' '0' '1' '1' '0'\n",
      " '1' '0' '1' '2' '2' '1' '0' '1' '2' '1' '1' '1' '0' '0' '0' '0' '1' '2'\n",
      " '1' '1' '2' '2' '1' '2' '1' '1' '0' '0' '0' '0' '0' '0' '0' '0' '2' '2'\n",
      " '0' '0' '0' '0' '0' '1' '1' '2' '1' '0' '0' '2' '2' '1' '0' '1' '0' '1'\n",
      " '2' '2' '2' '1' '1' '2' '2' '1' '2' '1' '1' '1' '2' '0' '1' '0' '2' '0'\n",
      " '0' '0' '2' '1' '0' '2' '0' '1' '0' '2' '1' '0' '2' '0' '2' '1' '0' '0'\n",
      " '0' '0' '2' '1' '1' '1' '0' '1' '0' '0' '1' '0' '1' '1' '0' '1' '2' '0'\n",
      " '1' '1' '1' '1' '2' '1' '1' '1' '1' '0' '1' '2' '2' '2' '0' '0' '1' '1'\n",
      " '0' '1' '2' '2' '0' '1' '2' '2' '1' '2' '1' '0' '0' '2' '2' '1' '2' '2'\n",
      " '2' '2' '2' '0' '2' '1' '1' '1' '1' '0' '0' '2' '0' '0' '0' '0' '0' '0'\n",
      " '2' '1' '1' '0' '1' '2' '2' '0' '0' '0' '2' '1' '1' '0' '0' '0' '1' '0'\n",
      " '1' '2' '2' '2' '1' '2' '1' '1' '2' '2' '1' '1' '2' '1' '2' '1' '2' '2'\n",
      " '0' '0' '2' '0' '2' '2' '2' '1' '0' '0' '2' '0' '0' '0' '1' '2' '2' '1'\n",
      " '1' '0' '0' '1' '2' '1' '0' '2' '2' '0' '2' '1' '0' '2' '2' '0' '0' '1'\n",
      " '0' '0' '2' '2' '1' '1' '0' '2' '0' '0' '0' '1' '1' '0' '2' '0' '2' '0'\n",
      " '1' '1' '1' '2' '2' '0' '2' '1' '0' '2' '2' '1' '0' '2' '1' '2' '1' '2'\n",
      " '2' '0' '1' '1' '2' '2' '1' '1' '0' '0' '1' '0' '1' '2' '0' '0' '0' '1'\n",
      " '1' '0' '1' '2' '0' '1' '0' '0' '2' '0' '1' '0' '0' '1' '1' '1' '2' '2'\n",
      " '0' '0' '1' '2' '2' '2' '1' '0' '2' '2' '0' '0' '2' '2' '1' '2' '2' '1'\n",
      " '1' '1' '0' '1' '0' '2' '0' '2']\n"
     ]
    }
   ],
   "source": [
    "# 模型原標籤\n",
    "true_label = y_test_org\n",
    "true_label = np.array(true_label)\n",
    "print(true_label)\n",
    "# print(len(true_label))"
   ]
  },
  {
   "cell_type": "code",
   "execution_count": 238,
   "metadata": {},
   "outputs": [
    {
     "data": {
      "text/html": [
       "<div>\n",
       "<style scoped>\n",
       "    .dataframe tbody tr th:only-of-type {\n",
       "        vertical-align: middle;\n",
       "    }\n",
       "\n",
       "    .dataframe tbody tr th {\n",
       "        vertical-align: top;\n",
       "    }\n",
       "\n",
       "    .dataframe thead th {\n",
       "        text-align: right;\n",
       "    }\n",
       "</style>\n",
       "<table border=\"1\" class=\"dataframe\">\n",
       "  <thead>\n",
       "    <tr style=\"text-align: right;\">\n",
       "      <th>預測值</th>\n",
       "      <th>0</th>\n",
       "      <th>1</th>\n",
       "      <th>2</th>\n",
       "    </tr>\n",
       "    <tr>\n",
       "      <th>實際值</th>\n",
       "      <th></th>\n",
       "      <th></th>\n",
       "      <th></th>\n",
       "    </tr>\n",
       "  </thead>\n",
       "  <tbody>\n",
       "    <tr>\n",
       "      <th>0</th>\n",
       "      <td>66</td>\n",
       "      <td>174</td>\n",
       "      <td>3</td>\n",
       "    </tr>\n",
       "    <tr>\n",
       "      <th>1</th>\n",
       "      <td>6</td>\n",
       "      <td>209</td>\n",
       "      <td>78</td>\n",
       "    </tr>\n",
       "    <tr>\n",
       "      <th>2</th>\n",
       "      <td>1</td>\n",
       "      <td>17</td>\n",
       "      <td>246</td>\n",
       "    </tr>\n",
       "  </tbody>\n",
       "</table>\n",
       "</div>"
      ],
      "text/plain": [
       "預測值   0    1    2\n",
       "實際值              \n",
       "0    66  174    3\n",
       "1     6  209   78\n",
       "2     1   17  246"
      ]
     },
     "execution_count": 238,
     "metadata": {},
     "output_type": "execute_result"
    }
   ],
   "source": [
    "pd.crosstab(true_label,predict_label,rownames=['實際值'],colnames=['預測值'])"
   ]
  },
  {
   "cell_type": "code",
   "execution_count": 239,
   "metadata": {},
   "outputs": [
    {
     "name": "stdout",
     "output_type": "stream",
     "text": [
      "正确率为:65.12%\n"
     ]
    }
   ],
   "source": [
    "# 整體準確度\n",
    "count = 0\n",
    "for i in range(len(y_pred)):\n",
    "    if(np.argmax(y_pred[i]) == np.argmax(y_test[i])): #argmax函数找到最大值的索引，即为其类别\n",
    "        count += 1\n",
    "score = count/len(y_pred)\n",
    "print('正确率为:%.2f%s' % (score*100,'%'))"
   ]
  },
  {
   "cell_type": "code",
   "execution_count": 240,
   "metadata": {},
   "outputs": [],
   "source": [
    "# 儲存模型相關參數\n",
    "# model.save('h5/'+file_name+'.h5')"
   ]
  },
  {
   "cell_type": "code",
   "execution_count": null,
   "metadata": {},
   "outputs": [],
   "source": []
  },
  {
   "cell_type": "raw",
   "metadata": {},
   "source": [
    "### https://github.com/linsamtw/cifar10_vgg16_kaggle"
   ]
  }
 ],
 "metadata": {
  "environment": {
   "name": "tf2-gpu.2-1.m46",
   "type": "gcloud",
   "uri": "gcr.io/deeplearning-platform-release/tf2-gpu.2-1:m46"
  },
  "kernelspec": {
   "display_name": "Python 3",
   "language": "python",
   "name": "python3"
  },
  "language_info": {
   "codemirror_mode": {
    "name": "ipython",
    "version": 3
   },
   "file_extension": ".py",
   "mimetype": "text/x-python",
   "name": "python",
   "nbconvert_exporter": "python",
   "pygments_lexer": "ipython3",
   "version": "3.7.6"
  }
 },
 "nbformat": 4,
 "nbformat_minor": 4
}
